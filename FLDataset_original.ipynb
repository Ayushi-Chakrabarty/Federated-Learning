{
 "cells": [
  {
   "cell_type": "code",
   "execution_count": 1,
   "metadata": {},
   "outputs": [],
   "source": [
    "import torch\n",
    "from torchvision import datasets, transforms\n",
    "from torch.utils.data import DataLoader, Dataset \n",
    "import numpy as np "
   ]
  },
  {
   "cell_type": "code",
   "execution_count": 2,
   "metadata": {},
   "outputs": [],
   "source": [
    "def mnistIID(dataset, num_users):\n",
    "    images = int(len(dataset)/num_users)\n",
    "    users_dict, indeces = {}, [i for i in range(len(dataset))]\n",
    "    for i in range(num_users):\n",
    "        np.random.seed(i)\n",
    "        users_dict[i] = set(np.random.choice(indeces, images, replace=False))\n",
    "        indeces = list(set(indeces) - users_dict[i])\n",
    "    return users_dict"
   ]
  },
  {
   "cell_type": "code",
   "execution_count": 3,
   "metadata": {},
   "outputs": [],
   "source": [
    "def mnistNonIID(dataset, num_users, test=False):\n",
    "    classes, images = 200, 300\n",
    "    if test:\n",
    "        classes, images = 20, 500\n",
    "    classes_indx = [i for i in range(classes)]\n",
    "    users_dict = {i: np.array([]) for i in range(num_users)}\n",
    "    indeces = np.arange(classes*images)\n",
    "    unsorted_labels = dataset.train_labels.numpy()\n",
    "\n",
    "    indeces_unsortedlabels = np.vstack((indeces, unsorted_labels))\n",
    "    indeces_labels = indeces_unsortedlabels[:, indeces_unsortedlabels[1, :].argsort()]\n",
    "    indeces = indeces_labels[0, :]"
   ]
  },
  {
   "cell_type": "code",
   "execution_count": 4,
   "metadata": {},
   "outputs": [],
   "source": [
    "class FedDataset(Dataset):\n",
    "    def __init__(self, dataset, indx):\n",
    "        self.dataset = dataset\n",
    "        self.indx = [int(i) for i in indx]\n",
    "    \n",
    "    def __len__(self):\n",
    "        return len(self.indx)\n",
    "    \n",
    "    def __getitem__(self,item):\n",
    "        images, label = self.dataset[self.indx[item]]\n",
    "        return torch.tensor(images), torch.tensor(label)\n",
    "        "
   ]
  },
  {
   "cell_type": "code",
   "execution_count": 5,
   "metadata": {},
   "outputs": [],
   "source": [
    "def getActualImgs(dataset, indeces, batch_size):\n",
    "    return DataLoader(FedDataset(dataset, indeces), batch_size = batch_size, shuffle = True)"
   ]
  },
  {
   "cell_type": "code",
   "execution_count": null,
   "metadata": {},
   "outputs": [],
   "source": [
    "#Use these functions directly to some other file for implementation"
   ]
  }
 ],
 "metadata": {
  "kernelspec": {
   "display_name": "Python 3",
   "language": "python",
   "name": "python3"
  },
  "language_info": {
   "codemirror_mode": {
    "name": "ipython",
    "version": 3
   },
   "file_extension": ".py",
   "mimetype": "text/x-python",
   "name": "python",
   "nbconvert_exporter": "python",
   "pygments_lexer": "ipython3",
   "version": "3.8.5"
  }
 },
 "nbformat": 4,
 "nbformat_minor": 4
}
