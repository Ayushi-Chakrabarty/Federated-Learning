{
  "nbformat": 4,
  "nbformat_minor": 0,
  "metadata": {
    "colab": {
      "name": "OpenFL demo.ipynb",
      "provenance": []
    },
    "kernelspec": {
      "name": "python3",
      "display_name": "Python 3"
    },
    "widgets": {
      "application/vnd.jupyter.widget-state+json": {
        "fa0239cb630c40abb9c5dacba8a370ff": {
          "model_module": "@jupyter-widgets/controls",
          "model_name": "HBoxModel",
          "state": {
            "_view_name": "HBoxView",
            "_dom_classes": [],
            "_model_name": "HBoxModel",
            "_view_module": "@jupyter-widgets/controls",
            "_model_module_version": "1.5.0",
            "_view_count": null,
            "_view_module_version": "1.5.0",
            "box_style": "",
            "layout": "IPY_MODEL_8d43770835d044d8b4e0a4a8060e30e2",
            "_model_module": "@jupyter-widgets/controls",
            "children": [
              "IPY_MODEL_e494e0043a4a4102a29fc6459bee77f4",
              "IPY_MODEL_943ef33d99604a7798cf3fd3607eea7c"
            ]
          }
        },
        "8d43770835d044d8b4e0a4a8060e30e2": {
          "model_module": "@jupyter-widgets/base",
          "model_name": "LayoutModel",
          "state": {
            "_view_name": "LayoutView",
            "grid_template_rows": null,
            "right": null,
            "justify_content": null,
            "_view_module": "@jupyter-widgets/base",
            "overflow": null,
            "_model_module_version": "1.2.0",
            "_view_count": null,
            "flex_flow": null,
            "width": null,
            "min_width": null,
            "border": null,
            "align_items": null,
            "bottom": null,
            "_model_module": "@jupyter-widgets/base",
            "top": null,
            "grid_column": null,
            "overflow_y": null,
            "overflow_x": null,
            "grid_auto_flow": null,
            "grid_area": null,
            "grid_template_columns": null,
            "flex": null,
            "_model_name": "LayoutModel",
            "justify_items": null,
            "grid_row": null,
            "max_height": null,
            "align_content": null,
            "visibility": null,
            "align_self": null,
            "height": null,
            "min_height": null,
            "padding": null,
            "grid_auto_rows": null,
            "grid_gap": null,
            "max_width": null,
            "order": null,
            "_view_module_version": "1.2.0",
            "grid_template_areas": null,
            "object_position": null,
            "object_fit": null,
            "grid_auto_columns": null,
            "margin": null,
            "display": null,
            "left": null
          }
        },
        "e494e0043a4a4102a29fc6459bee77f4": {
          "model_module": "@jupyter-widgets/controls",
          "model_name": "FloatProgressModel",
          "state": {
            "_view_name": "ProgressView",
            "style": "IPY_MODEL_09a207512f5e4003ba8fc7e78cda7616",
            "_dom_classes": [],
            "description": "",
            "_model_name": "FloatProgressModel",
            "bar_style": "info",
            "max": 1,
            "_view_module": "@jupyter-widgets/controls",
            "_model_module_version": "1.5.0",
            "value": 1,
            "_view_count": null,
            "_view_module_version": "1.5.0",
            "orientation": "horizontal",
            "min": 0,
            "description_tooltip": null,
            "_model_module": "@jupyter-widgets/controls",
            "layout": "IPY_MODEL_ce9bbc32ab5f4061a401f8789d2eb062"
          }
        },
        "943ef33d99604a7798cf3fd3607eea7c": {
          "model_module": "@jupyter-widgets/controls",
          "model_name": "HTMLModel",
          "state": {
            "_view_name": "HTMLView",
            "style": "IPY_MODEL_b9511781cd734423abd9ad04af294693",
            "_dom_classes": [],
            "description": "",
            "_model_name": "HTMLModel",
            "placeholder": "​",
            "_view_module": "@jupyter-widgets/controls",
            "_model_module_version": "1.5.0",
            "value": " 9920512/? [00:20&lt;00:00, 11085382.74it/s]",
            "_view_count": null,
            "_view_module_version": "1.5.0",
            "description_tooltip": null,
            "_model_module": "@jupyter-widgets/controls",
            "layout": "IPY_MODEL_0cc0d6cddc3b4e85902347988bca5aa0"
          }
        },
        "09a207512f5e4003ba8fc7e78cda7616": {
          "model_module": "@jupyter-widgets/controls",
          "model_name": "ProgressStyleModel",
          "state": {
            "_view_name": "StyleView",
            "_model_name": "ProgressStyleModel",
            "description_width": "initial",
            "_view_module": "@jupyter-widgets/base",
            "_model_module_version": "1.5.0",
            "_view_count": null,
            "_view_module_version": "1.2.0",
            "bar_color": null,
            "_model_module": "@jupyter-widgets/controls"
          }
        },
        "ce9bbc32ab5f4061a401f8789d2eb062": {
          "model_module": "@jupyter-widgets/base",
          "model_name": "LayoutModel",
          "state": {
            "_view_name": "LayoutView",
            "grid_template_rows": null,
            "right": null,
            "justify_content": null,
            "_view_module": "@jupyter-widgets/base",
            "overflow": null,
            "_model_module_version": "1.2.0",
            "_view_count": null,
            "flex_flow": null,
            "width": null,
            "min_width": null,
            "border": null,
            "align_items": null,
            "bottom": null,
            "_model_module": "@jupyter-widgets/base",
            "top": null,
            "grid_column": null,
            "overflow_y": null,
            "overflow_x": null,
            "grid_auto_flow": null,
            "grid_area": null,
            "grid_template_columns": null,
            "flex": null,
            "_model_name": "LayoutModel",
            "justify_items": null,
            "grid_row": null,
            "max_height": null,
            "align_content": null,
            "visibility": null,
            "align_self": null,
            "height": null,
            "min_height": null,
            "padding": null,
            "grid_auto_rows": null,
            "grid_gap": null,
            "max_width": null,
            "order": null,
            "_view_module_version": "1.2.0",
            "grid_template_areas": null,
            "object_position": null,
            "object_fit": null,
            "grid_auto_columns": null,
            "margin": null,
            "display": null,
            "left": null
          }
        },
        "b9511781cd734423abd9ad04af294693": {
          "model_module": "@jupyter-widgets/controls",
          "model_name": "DescriptionStyleModel",
          "state": {
            "_view_name": "StyleView",
            "_model_name": "DescriptionStyleModel",
            "description_width": "",
            "_view_module": "@jupyter-widgets/base",
            "_model_module_version": "1.5.0",
            "_view_count": null,
            "_view_module_version": "1.2.0",
            "_model_module": "@jupyter-widgets/controls"
          }
        },
        "0cc0d6cddc3b4e85902347988bca5aa0": {
          "model_module": "@jupyter-widgets/base",
          "model_name": "LayoutModel",
          "state": {
            "_view_name": "LayoutView",
            "grid_template_rows": null,
            "right": null,
            "justify_content": null,
            "_view_module": "@jupyter-widgets/base",
            "overflow": null,
            "_model_module_version": "1.2.0",
            "_view_count": null,
            "flex_flow": null,
            "width": null,
            "min_width": null,
            "border": null,
            "align_items": null,
            "bottom": null,
            "_model_module": "@jupyter-widgets/base",
            "top": null,
            "grid_column": null,
            "overflow_y": null,
            "overflow_x": null,
            "grid_auto_flow": null,
            "grid_area": null,
            "grid_template_columns": null,
            "flex": null,
            "_model_name": "LayoutModel",
            "justify_items": null,
            "grid_row": null,
            "max_height": null,
            "align_content": null,
            "visibility": null,
            "align_self": null,
            "height": null,
            "min_height": null,
            "padding": null,
            "grid_auto_rows": null,
            "grid_gap": null,
            "max_width": null,
            "order": null,
            "_view_module_version": "1.2.0",
            "grid_template_areas": null,
            "object_position": null,
            "object_fit": null,
            "grid_auto_columns": null,
            "margin": null,
            "display": null,
            "left": null
          }
        },
        "8d727f8c4dc94f81862f6feb41b9c1ca": {
          "model_module": "@jupyter-widgets/controls",
          "model_name": "HBoxModel",
          "state": {
            "_view_name": "HBoxView",
            "_dom_classes": [],
            "_model_name": "HBoxModel",
            "_view_module": "@jupyter-widgets/controls",
            "_model_module_version": "1.5.0",
            "_view_count": null,
            "_view_module_version": "1.5.0",
            "box_style": "",
            "layout": "IPY_MODEL_457a2ca1b3314275ba645adb22fc73b9",
            "_model_module": "@jupyter-widgets/controls",
            "children": [
              "IPY_MODEL_871761b14d2e45dba36bf73c374d3243",
              "IPY_MODEL_3f5b975a782745d8b434be2b4377c133"
            ]
          }
        },
        "457a2ca1b3314275ba645adb22fc73b9": {
          "model_module": "@jupyter-widgets/base",
          "model_name": "LayoutModel",
          "state": {
            "_view_name": "LayoutView",
            "grid_template_rows": null,
            "right": null,
            "justify_content": null,
            "_view_module": "@jupyter-widgets/base",
            "overflow": null,
            "_model_module_version": "1.2.0",
            "_view_count": null,
            "flex_flow": null,
            "width": null,
            "min_width": null,
            "border": null,
            "align_items": null,
            "bottom": null,
            "_model_module": "@jupyter-widgets/base",
            "top": null,
            "grid_column": null,
            "overflow_y": null,
            "overflow_x": null,
            "grid_auto_flow": null,
            "grid_area": null,
            "grid_template_columns": null,
            "flex": null,
            "_model_name": "LayoutModel",
            "justify_items": null,
            "grid_row": null,
            "max_height": null,
            "align_content": null,
            "visibility": null,
            "align_self": null,
            "height": null,
            "min_height": null,
            "padding": null,
            "grid_auto_rows": null,
            "grid_gap": null,
            "max_width": null,
            "order": null,
            "_view_module_version": "1.2.0",
            "grid_template_areas": null,
            "object_position": null,
            "object_fit": null,
            "grid_auto_columns": null,
            "margin": null,
            "display": null,
            "left": null
          }
        },
        "871761b14d2e45dba36bf73c374d3243": {
          "model_module": "@jupyter-widgets/controls",
          "model_name": "FloatProgressModel",
          "state": {
            "_view_name": "ProgressView",
            "style": "IPY_MODEL_6a96664b70334aaea64f15b03f19891f",
            "_dom_classes": [],
            "description": "",
            "_model_name": "FloatProgressModel",
            "bar_style": "success",
            "max": 1,
            "_view_module": "@jupyter-widgets/controls",
            "_model_module_version": "1.5.0",
            "value": 1,
            "_view_count": null,
            "_view_module_version": "1.5.0",
            "orientation": "horizontal",
            "min": 0,
            "description_tooltip": null,
            "_model_module": "@jupyter-widgets/controls",
            "layout": "IPY_MODEL_263f0f201e0640ad99e8c7570f9364d3"
          }
        },
        "3f5b975a782745d8b434be2b4377c133": {
          "model_module": "@jupyter-widgets/controls",
          "model_name": "HTMLModel",
          "state": {
            "_view_name": "HTMLView",
            "style": "IPY_MODEL_60cf1d426f4c46e48f0085ae7b68581e",
            "_dom_classes": [],
            "description": "",
            "_model_name": "HTMLModel",
            "placeholder": "​",
            "_view_module": "@jupyter-widgets/controls",
            "_model_module_version": "1.5.0",
            "value": " 32768/? [00:01&lt;00:00, 31658.29it/s]",
            "_view_count": null,
            "_view_module_version": "1.5.0",
            "description_tooltip": null,
            "_model_module": "@jupyter-widgets/controls",
            "layout": "IPY_MODEL_719443a529d94e94a84a2cf53033ebaf"
          }
        },
        "6a96664b70334aaea64f15b03f19891f": {
          "model_module": "@jupyter-widgets/controls",
          "model_name": "ProgressStyleModel",
          "state": {
            "_view_name": "StyleView",
            "_model_name": "ProgressStyleModel",
            "description_width": "initial",
            "_view_module": "@jupyter-widgets/base",
            "_model_module_version": "1.5.0",
            "_view_count": null,
            "_view_module_version": "1.2.0",
            "bar_color": null,
            "_model_module": "@jupyter-widgets/controls"
          }
        },
        "263f0f201e0640ad99e8c7570f9364d3": {
          "model_module": "@jupyter-widgets/base",
          "model_name": "LayoutModel",
          "state": {
            "_view_name": "LayoutView",
            "grid_template_rows": null,
            "right": null,
            "justify_content": null,
            "_view_module": "@jupyter-widgets/base",
            "overflow": null,
            "_model_module_version": "1.2.0",
            "_view_count": null,
            "flex_flow": null,
            "width": null,
            "min_width": null,
            "border": null,
            "align_items": null,
            "bottom": null,
            "_model_module": "@jupyter-widgets/base",
            "top": null,
            "grid_column": null,
            "overflow_y": null,
            "overflow_x": null,
            "grid_auto_flow": null,
            "grid_area": null,
            "grid_template_columns": null,
            "flex": null,
            "_model_name": "LayoutModel",
            "justify_items": null,
            "grid_row": null,
            "max_height": null,
            "align_content": null,
            "visibility": null,
            "align_self": null,
            "height": null,
            "min_height": null,
            "padding": null,
            "grid_auto_rows": null,
            "grid_gap": null,
            "max_width": null,
            "order": null,
            "_view_module_version": "1.2.0",
            "grid_template_areas": null,
            "object_position": null,
            "object_fit": null,
            "grid_auto_columns": null,
            "margin": null,
            "display": null,
            "left": null
          }
        },
        "60cf1d426f4c46e48f0085ae7b68581e": {
          "model_module": "@jupyter-widgets/controls",
          "model_name": "DescriptionStyleModel",
          "state": {
            "_view_name": "StyleView",
            "_model_name": "DescriptionStyleModel",
            "description_width": "",
            "_view_module": "@jupyter-widgets/base",
            "_model_module_version": "1.5.0",
            "_view_count": null,
            "_view_module_version": "1.2.0",
            "_model_module": "@jupyter-widgets/controls"
          }
        },
        "719443a529d94e94a84a2cf53033ebaf": {
          "model_module": "@jupyter-widgets/base",
          "model_name": "LayoutModel",
          "state": {
            "_view_name": "LayoutView",
            "grid_template_rows": null,
            "right": null,
            "justify_content": null,
            "_view_module": "@jupyter-widgets/base",
            "overflow": null,
            "_model_module_version": "1.2.0",
            "_view_count": null,
            "flex_flow": null,
            "width": null,
            "min_width": null,
            "border": null,
            "align_items": null,
            "bottom": null,
            "_model_module": "@jupyter-widgets/base",
            "top": null,
            "grid_column": null,
            "overflow_y": null,
            "overflow_x": null,
            "grid_auto_flow": null,
            "grid_area": null,
            "grid_template_columns": null,
            "flex": null,
            "_model_name": "LayoutModel",
            "justify_items": null,
            "grid_row": null,
            "max_height": null,
            "align_content": null,
            "visibility": null,
            "align_self": null,
            "height": null,
            "min_height": null,
            "padding": null,
            "grid_auto_rows": null,
            "grid_gap": null,
            "max_width": null,
            "order": null,
            "_view_module_version": "1.2.0",
            "grid_template_areas": null,
            "object_position": null,
            "object_fit": null,
            "grid_auto_columns": null,
            "margin": null,
            "display": null,
            "left": null
          }
        },
        "6700b488d48144f08db79812989eddf4": {
          "model_module": "@jupyter-widgets/controls",
          "model_name": "HBoxModel",
          "state": {
            "_view_name": "HBoxView",
            "_dom_classes": [],
            "_model_name": "HBoxModel",
            "_view_module": "@jupyter-widgets/controls",
            "_model_module_version": "1.5.0",
            "_view_count": null,
            "_view_module_version": "1.5.0",
            "box_style": "",
            "layout": "IPY_MODEL_c5c0464b6cc446d5b93114b9f9541a54",
            "_model_module": "@jupyter-widgets/controls",
            "children": [
              "IPY_MODEL_308bf08b0a5f4b3e83bdeb830877815e",
              "IPY_MODEL_125f4244333a41669f67c5bba5c80f82"
            ]
          }
        },
        "c5c0464b6cc446d5b93114b9f9541a54": {
          "model_module": "@jupyter-widgets/base",
          "model_name": "LayoutModel",
          "state": {
            "_view_name": "LayoutView",
            "grid_template_rows": null,
            "right": null,
            "justify_content": null,
            "_view_module": "@jupyter-widgets/base",
            "overflow": null,
            "_model_module_version": "1.2.0",
            "_view_count": null,
            "flex_flow": null,
            "width": null,
            "min_width": null,
            "border": null,
            "align_items": null,
            "bottom": null,
            "_model_module": "@jupyter-widgets/base",
            "top": null,
            "grid_column": null,
            "overflow_y": null,
            "overflow_x": null,
            "grid_auto_flow": null,
            "grid_area": null,
            "grid_template_columns": null,
            "flex": null,
            "_model_name": "LayoutModel",
            "justify_items": null,
            "grid_row": null,
            "max_height": null,
            "align_content": null,
            "visibility": null,
            "align_self": null,
            "height": null,
            "min_height": null,
            "padding": null,
            "grid_auto_rows": null,
            "grid_gap": null,
            "max_width": null,
            "order": null,
            "_view_module_version": "1.2.0",
            "grid_template_areas": null,
            "object_position": null,
            "object_fit": null,
            "grid_auto_columns": null,
            "margin": null,
            "display": null,
            "left": null
          }
        },
        "308bf08b0a5f4b3e83bdeb830877815e": {
          "model_module": "@jupyter-widgets/controls",
          "model_name": "FloatProgressModel",
          "state": {
            "_view_name": "ProgressView",
            "style": "IPY_MODEL_c40fbccc12994c53a9433f0bde8a36c9",
            "_dom_classes": [],
            "description": "",
            "_model_name": "FloatProgressModel",
            "bar_style": "success",
            "max": 1,
            "_view_module": "@jupyter-widgets/controls",
            "_model_module_version": "1.5.0",
            "value": 1,
            "_view_count": null,
            "_view_module_version": "1.5.0",
            "orientation": "horizontal",
            "min": 0,
            "description_tooltip": null,
            "_model_module": "@jupyter-widgets/controls",
            "layout": "IPY_MODEL_aabd188b814c4885b184c69e08f3a14b"
          }
        },
        "125f4244333a41669f67c5bba5c80f82": {
          "model_module": "@jupyter-widgets/controls",
          "model_name": "HTMLModel",
          "state": {
            "_view_name": "HTMLView",
            "style": "IPY_MODEL_a50084768e8e4b4bb1c43c01830b7287",
            "_dom_classes": [],
            "description": "",
            "_model_name": "HTMLModel",
            "placeholder": "​",
            "_view_module": "@jupyter-widgets/controls",
            "_model_module_version": "1.5.0",
            "value": " 1654784/? [00:00&lt;00:00, 1858257.29it/s]",
            "_view_count": null,
            "_view_module_version": "1.5.0",
            "description_tooltip": null,
            "_model_module": "@jupyter-widgets/controls",
            "layout": "IPY_MODEL_a01f45cfdd5745a0b7fd0606c578dc7a"
          }
        },
        "c40fbccc12994c53a9433f0bde8a36c9": {
          "model_module": "@jupyter-widgets/controls",
          "model_name": "ProgressStyleModel",
          "state": {
            "_view_name": "StyleView",
            "_model_name": "ProgressStyleModel",
            "description_width": "initial",
            "_view_module": "@jupyter-widgets/base",
            "_model_module_version": "1.5.0",
            "_view_count": null,
            "_view_module_version": "1.2.0",
            "bar_color": null,
            "_model_module": "@jupyter-widgets/controls"
          }
        },
        "aabd188b814c4885b184c69e08f3a14b": {
          "model_module": "@jupyter-widgets/base",
          "model_name": "LayoutModel",
          "state": {
            "_view_name": "LayoutView",
            "grid_template_rows": null,
            "right": null,
            "justify_content": null,
            "_view_module": "@jupyter-widgets/base",
            "overflow": null,
            "_model_module_version": "1.2.0",
            "_view_count": null,
            "flex_flow": null,
            "width": null,
            "min_width": null,
            "border": null,
            "align_items": null,
            "bottom": null,
            "_model_module": "@jupyter-widgets/base",
            "top": null,
            "grid_column": null,
            "overflow_y": null,
            "overflow_x": null,
            "grid_auto_flow": null,
            "grid_area": null,
            "grid_template_columns": null,
            "flex": null,
            "_model_name": "LayoutModel",
            "justify_items": null,
            "grid_row": null,
            "max_height": null,
            "align_content": null,
            "visibility": null,
            "align_self": null,
            "height": null,
            "min_height": null,
            "padding": null,
            "grid_auto_rows": null,
            "grid_gap": null,
            "max_width": null,
            "order": null,
            "_view_module_version": "1.2.0",
            "grid_template_areas": null,
            "object_position": null,
            "object_fit": null,
            "grid_auto_columns": null,
            "margin": null,
            "display": null,
            "left": null
          }
        },
        "a50084768e8e4b4bb1c43c01830b7287": {
          "model_module": "@jupyter-widgets/controls",
          "model_name": "DescriptionStyleModel",
          "state": {
            "_view_name": "StyleView",
            "_model_name": "DescriptionStyleModel",
            "description_width": "",
            "_view_module": "@jupyter-widgets/base",
            "_model_module_version": "1.5.0",
            "_view_count": null,
            "_view_module_version": "1.2.0",
            "_model_module": "@jupyter-widgets/controls"
          }
        },
        "a01f45cfdd5745a0b7fd0606c578dc7a": {
          "model_module": "@jupyter-widgets/base",
          "model_name": "LayoutModel",
          "state": {
            "_view_name": "LayoutView",
            "grid_template_rows": null,
            "right": null,
            "justify_content": null,
            "_view_module": "@jupyter-widgets/base",
            "overflow": null,
            "_model_module_version": "1.2.0",
            "_view_count": null,
            "flex_flow": null,
            "width": null,
            "min_width": null,
            "border": null,
            "align_items": null,
            "bottom": null,
            "_model_module": "@jupyter-widgets/base",
            "top": null,
            "grid_column": null,
            "overflow_y": null,
            "overflow_x": null,
            "grid_auto_flow": null,
            "grid_area": null,
            "grid_template_columns": null,
            "flex": null,
            "_model_name": "LayoutModel",
            "justify_items": null,
            "grid_row": null,
            "max_height": null,
            "align_content": null,
            "visibility": null,
            "align_self": null,
            "height": null,
            "min_height": null,
            "padding": null,
            "grid_auto_rows": null,
            "grid_gap": null,
            "max_width": null,
            "order": null,
            "_view_module_version": "1.2.0",
            "grid_template_areas": null,
            "object_position": null,
            "object_fit": null,
            "grid_auto_columns": null,
            "margin": null,
            "display": null,
            "left": null
          }
        },
        "b89c783bc6c9456498ee51ce735ba4ad": {
          "model_module": "@jupyter-widgets/controls",
          "model_name": "HBoxModel",
          "state": {
            "_view_name": "HBoxView",
            "_dom_classes": [],
            "_model_name": "HBoxModel",
            "_view_module": "@jupyter-widgets/controls",
            "_model_module_version": "1.5.0",
            "_view_count": null,
            "_view_module_version": "1.5.0",
            "box_style": "",
            "layout": "IPY_MODEL_79b57911e0bb43b4a0e2d36ebbfaffef",
            "_model_module": "@jupyter-widgets/controls",
            "children": [
              "IPY_MODEL_b8f4b4731dba44d895d252761e66fffd",
              "IPY_MODEL_e56f1fff24e146b0b70476e42ecb05d2"
            ]
          }
        },
        "79b57911e0bb43b4a0e2d36ebbfaffef": {
          "model_module": "@jupyter-widgets/base",
          "model_name": "LayoutModel",
          "state": {
            "_view_name": "LayoutView",
            "grid_template_rows": null,
            "right": null,
            "justify_content": null,
            "_view_module": "@jupyter-widgets/base",
            "overflow": null,
            "_model_module_version": "1.2.0",
            "_view_count": null,
            "flex_flow": null,
            "width": null,
            "min_width": null,
            "border": null,
            "align_items": null,
            "bottom": null,
            "_model_module": "@jupyter-widgets/base",
            "top": null,
            "grid_column": null,
            "overflow_y": null,
            "overflow_x": null,
            "grid_auto_flow": null,
            "grid_area": null,
            "grid_template_columns": null,
            "flex": null,
            "_model_name": "LayoutModel",
            "justify_items": null,
            "grid_row": null,
            "max_height": null,
            "align_content": null,
            "visibility": null,
            "align_self": null,
            "height": null,
            "min_height": null,
            "padding": null,
            "grid_auto_rows": null,
            "grid_gap": null,
            "max_width": null,
            "order": null,
            "_view_module_version": "1.2.0",
            "grid_template_areas": null,
            "object_position": null,
            "object_fit": null,
            "grid_auto_columns": null,
            "margin": null,
            "display": null,
            "left": null
          }
        },
        "b8f4b4731dba44d895d252761e66fffd": {
          "model_module": "@jupyter-widgets/controls",
          "model_name": "FloatProgressModel",
          "state": {
            "_view_name": "ProgressView",
            "style": "IPY_MODEL_def8289b379243578764d97de220b829",
            "_dom_classes": [],
            "description": "",
            "_model_name": "FloatProgressModel",
            "bar_style": "success",
            "max": 1,
            "_view_module": "@jupyter-widgets/controls",
            "_model_module_version": "1.5.0",
            "value": 1,
            "_view_count": null,
            "_view_module_version": "1.5.0",
            "orientation": "horizontal",
            "min": 0,
            "description_tooltip": null,
            "_model_module": "@jupyter-widgets/controls",
            "layout": "IPY_MODEL_25b939fb1cf1484b918cb10f5d14a5a1"
          }
        },
        "e56f1fff24e146b0b70476e42ecb05d2": {
          "model_module": "@jupyter-widgets/controls",
          "model_name": "HTMLModel",
          "state": {
            "_view_name": "HTMLView",
            "style": "IPY_MODEL_89521db49aa54d6b822c4cf7cfb201f9",
            "_dom_classes": [],
            "description": "",
            "_model_name": "HTMLModel",
            "placeholder": "​",
            "_view_module": "@jupyter-widgets/controls",
            "_model_module_version": "1.5.0",
            "value": " 8192/? [00:00&lt;00:00, 13690.91it/s]",
            "_view_count": null,
            "_view_module_version": "1.5.0",
            "description_tooltip": null,
            "_model_module": "@jupyter-widgets/controls",
            "layout": "IPY_MODEL_26395b603d974ce59acc18a9a83c5007"
          }
        },
        "def8289b379243578764d97de220b829": {
          "model_module": "@jupyter-widgets/controls",
          "model_name": "ProgressStyleModel",
          "state": {
            "_view_name": "StyleView",
            "_model_name": "ProgressStyleModel",
            "description_width": "initial",
            "_view_module": "@jupyter-widgets/base",
            "_model_module_version": "1.5.0",
            "_view_count": null,
            "_view_module_version": "1.2.0",
            "bar_color": null,
            "_model_module": "@jupyter-widgets/controls"
          }
        },
        "25b939fb1cf1484b918cb10f5d14a5a1": {
          "model_module": "@jupyter-widgets/base",
          "model_name": "LayoutModel",
          "state": {
            "_view_name": "LayoutView",
            "grid_template_rows": null,
            "right": null,
            "justify_content": null,
            "_view_module": "@jupyter-widgets/base",
            "overflow": null,
            "_model_module_version": "1.2.0",
            "_view_count": null,
            "flex_flow": null,
            "width": null,
            "min_width": null,
            "border": null,
            "align_items": null,
            "bottom": null,
            "_model_module": "@jupyter-widgets/base",
            "top": null,
            "grid_column": null,
            "overflow_y": null,
            "overflow_x": null,
            "grid_auto_flow": null,
            "grid_area": null,
            "grid_template_columns": null,
            "flex": null,
            "_model_name": "LayoutModel",
            "justify_items": null,
            "grid_row": null,
            "max_height": null,
            "align_content": null,
            "visibility": null,
            "align_self": null,
            "height": null,
            "min_height": null,
            "padding": null,
            "grid_auto_rows": null,
            "grid_gap": null,
            "max_width": null,
            "order": null,
            "_view_module_version": "1.2.0",
            "grid_template_areas": null,
            "object_position": null,
            "object_fit": null,
            "grid_auto_columns": null,
            "margin": null,
            "display": null,
            "left": null
          }
        },
        "89521db49aa54d6b822c4cf7cfb201f9": {
          "model_module": "@jupyter-widgets/controls",
          "model_name": "DescriptionStyleModel",
          "state": {
            "_view_name": "StyleView",
            "_model_name": "DescriptionStyleModel",
            "description_width": "",
            "_view_module": "@jupyter-widgets/base",
            "_model_module_version": "1.5.0",
            "_view_count": null,
            "_view_module_version": "1.2.0",
            "_model_module": "@jupyter-widgets/controls"
          }
        },
        "26395b603d974ce59acc18a9a83c5007": {
          "model_module": "@jupyter-widgets/base",
          "model_name": "LayoutModel",
          "state": {
            "_view_name": "LayoutView",
            "grid_template_rows": null,
            "right": null,
            "justify_content": null,
            "_view_module": "@jupyter-widgets/base",
            "overflow": null,
            "_model_module_version": "1.2.0",
            "_view_count": null,
            "flex_flow": null,
            "width": null,
            "min_width": null,
            "border": null,
            "align_items": null,
            "bottom": null,
            "_model_module": "@jupyter-widgets/base",
            "top": null,
            "grid_column": null,
            "overflow_y": null,
            "overflow_x": null,
            "grid_auto_flow": null,
            "grid_area": null,
            "grid_template_columns": null,
            "flex": null,
            "_model_name": "LayoutModel",
            "justify_items": null,
            "grid_row": null,
            "max_height": null,
            "align_content": null,
            "visibility": null,
            "align_self": null,
            "height": null,
            "min_height": null,
            "padding": null,
            "grid_auto_rows": null,
            "grid_gap": null,
            "max_width": null,
            "order": null,
            "_view_module_version": "1.2.0",
            "grid_template_areas": null,
            "object_position": null,
            "object_fit": null,
            "grid_auto_columns": null,
            "margin": null,
            "display": null,
            "left": null
          }
        }
      }
    }
  },
  "cells": [
    {
      "cell_type": "code",
      "metadata": {
        "colab": {
          "base_uri": "https://localhost:8080/"
        },
        "id": "H5prR1WWAhzA",
        "outputId": "cd81b29f-2dd4-4e4e-a638-fe5d01e1e882"
      },
      "source": [
        "!pip install openfl\n"
      ],
      "execution_count": null,
      "outputs": [
        {
          "output_type": "stream",
          "text": [
            "Collecting openfl\n",
            "\u001b[?25l  Downloading https://files.pythonhosted.org/packages/bb/1c/7d4e99032164868964bfb5c550e493b0069aac11ef1bb28406392daea9d3/openfl-1.0-py3-none-manylinux1_x86_64.whl (208kB)\n",
            "\u001b[K     |████████████████████████████████| 215kB 5.7MB/s \n",
            "\u001b[?25hCollecting docker\n",
            "\u001b[?25l  Downloading https://files.pythonhosted.org/packages/c4/22/410313ad554477e87ec406d38d85f810e61ddb0d2fc44e64994857476de9/docker-4.4.4-py2.py3-none-any.whl (147kB)\n",
            "\u001b[K     |████████████████████████████████| 153kB 14.1MB/s \n",
            "\u001b[?25hCollecting flatten-json\n",
            "  Downloading https://files.pythonhosted.org/packages/cb/be/8f8e563004c7eae0b03be0fc6427a4ce07691c758250fdb31a9e934028d4/flatten_json-0.1.13.tar.gz\n",
            "Requirement already satisfied: pandas in /usr/local/lib/python3.7/dist-packages (from openfl) (1.1.5)\n",
            "Requirement already satisfied: jupyter in /usr/local/lib/python3.7/dist-packages (from openfl) (1.0.0)\n",
            "Collecting grpcio==1.30.0\n",
            "\u001b[?25l  Downloading https://files.pythonhosted.org/packages/cf/10/ed3caaa9e4c1b8c275b866438e2047d34d5e64dacc75dd0b1daf28ae07af/grpcio-1.30.0-cp37-cp37m-manylinux2010_x86_64.whl (3.0MB)\n",
            "\u001b[K     |████████████████████████████████| 3.0MB 9.8MB/s \n",
            "\u001b[?25hCollecting PyYAML>=5.4.1\n",
            "\u001b[?25l  Downloading https://files.pythonhosted.org/packages/7a/a5/393c087efdc78091afa2af9f1378762f9821c9c1d7a22c5753fb5ac5f97a/PyYAML-5.4.1-cp37-cp37m-manylinux1_x86_64.whl (636kB)\n",
            "\u001b[K     |████████████████████████████████| 645kB 47.2MB/s \n",
            "\u001b[?25hCollecting grpcio-tools==1.30.0\n",
            "\u001b[?25l  Downloading https://files.pythonhosted.org/packages/73/f1/9c0c521422147788629cbba859688497942d873d35354f63f5d7f99971c1/grpcio_tools-1.30.0-cp37-cp37m-manylinux2010_x86_64.whl (2.5MB)\n",
            "\u001b[K     |████████████████████████████████| 2.5MB 36.6MB/s \n",
            "\u001b[?25hCollecting cryptography\n",
            "\u001b[?25l  Downloading https://files.pythonhosted.org/packages/f8/1f/acde6ff69864c5e78b56488e3afd93c1ccc8c2651186e2a5f93d93f64859/cryptography-3.4.6-cp36-abi3-manylinux2014_x86_64.whl (3.2MB)\n",
            "\u001b[K     |████████████████████████████████| 3.2MB 35.0MB/s \n",
            "\u001b[?25hRequirement already satisfied: scikit-learn in /usr/local/lib/python3.7/dist-packages (from openfl) (0.22.2.post1)\n",
            "Requirement already satisfied: Click>=7.0 in /usr/local/lib/python3.7/dist-packages (from openfl) (7.1.2)\n",
            "Collecting rich==9.1.0\n",
            "\u001b[?25l  Downloading https://files.pythonhosted.org/packages/9a/d9/f6982f742ba121625aa035f1cf454335c3f8a7de7d0ff34ef7e236d86575/rich-9.1.0-py3-none-any.whl (161kB)\n",
            "\u001b[K     |████████████████████████████████| 163kB 44.4MB/s \n",
            "\u001b[?25hRequirement already satisfied: protobuf in /usr/local/lib/python3.7/dist-packages (from openfl) (3.12.4)\n",
            "Requirement already satisfied: ipykernel in /usr/local/lib/python3.7/dist-packages (from openfl) (4.10.1)\n",
            "Requirement already satisfied: numpy in /usr/local/lib/python3.7/dist-packages (from openfl) (1.19.5)\n",
            "Requirement already satisfied: tqdm in /usr/local/lib/python3.7/dist-packages (from openfl) (4.41.1)\n",
            "Requirement already satisfied: six>=1.4.0 in /usr/local/lib/python3.7/dist-packages (from docker->openfl) (1.15.0)\n",
            "Collecting websocket-client>=0.32.0\n",
            "\u001b[?25l  Downloading https://files.pythonhosted.org/packages/4c/5f/f61b420143ed1c8dc69f9eaec5ff1ac36109d52c80de49d66e0c36c3dfdf/websocket_client-0.57.0-py2.py3-none-any.whl (200kB)\n",
            "\u001b[K     |████████████████████████████████| 204kB 49.1MB/s \n",
            "\u001b[?25hRequirement already satisfied: requests!=2.18.0,>=2.14.2 in /usr/local/lib/python3.7/dist-packages (from docker->openfl) (2.23.0)\n",
            "Requirement already satisfied: pytz>=2017.2 in /usr/local/lib/python3.7/dist-packages (from pandas->openfl) (2018.9)\n",
            "Requirement already satisfied: python-dateutil>=2.7.3 in /usr/local/lib/python3.7/dist-packages (from pandas->openfl) (2.8.1)\n",
            "Requirement already satisfied: jupyter-console in /usr/local/lib/python3.7/dist-packages (from jupyter->openfl) (5.2.0)\n",
            "Requirement already satisfied: notebook in /usr/local/lib/python3.7/dist-packages (from jupyter->openfl) (5.3.1)\n",
            "Requirement already satisfied: ipywidgets in /usr/local/lib/python3.7/dist-packages (from jupyter->openfl) (7.6.3)\n",
            "Requirement already satisfied: qtconsole in /usr/local/lib/python3.7/dist-packages (from jupyter->openfl) (5.0.2)\n",
            "Requirement already satisfied: nbconvert in /usr/local/lib/python3.7/dist-packages (from jupyter->openfl) (5.6.1)\n",
            "Requirement already satisfied: cffi>=1.12 in /usr/local/lib/python3.7/dist-packages (from cryptography->openfl) (1.14.5)\n",
            "Requirement already satisfied: scipy>=0.17.0 in /usr/local/lib/python3.7/dist-packages (from scikit-learn->openfl) (1.4.1)\n",
            "Requirement already satisfied: joblib>=0.11 in /usr/local/lib/python3.7/dist-packages (from scikit-learn->openfl) (1.0.1)\n",
            "Collecting colorama<0.5.0,>=0.4.0\n",
            "  Downloading https://files.pythonhosted.org/packages/44/98/5b86278fbbf250d239ae0ecb724f8572af1c91f4a11edf4d36a206189440/colorama-0.4.4-py2.py3-none-any.whl\n",
            "Collecting commonmark<0.10.0,>=0.9.0\n",
            "\u001b[?25l  Downloading https://files.pythonhosted.org/packages/b1/92/dfd892312d822f36c55366118b95d914e5f16de11044a27cf10a7d71bbbf/commonmark-0.9.1-py2.py3-none-any.whl (51kB)\n",
            "\u001b[K     |████████████████████████████████| 51kB 6.4MB/s \n",
            "\u001b[?25hRequirement already satisfied: pygments<3.0.0,>=2.6.0 in /usr/local/lib/python3.7/dist-packages (from rich==9.1.0->openfl) (2.6.1)\n",
            "Requirement already satisfied: typing-extensions<4.0.0,>=3.7.4 in /usr/local/lib/python3.7/dist-packages (from rich==9.1.0->openfl) (3.7.4.3)\n",
            "Requirement already satisfied: setuptools in /usr/local/lib/python3.7/dist-packages (from protobuf->openfl) (53.0.0)\n",
            "Requirement already satisfied: traitlets>=4.1.0 in /usr/local/lib/python3.7/dist-packages (from ipykernel->openfl) (5.0.5)\n",
            "Requirement already satisfied: jupyter-client in /usr/local/lib/python3.7/dist-packages (from ipykernel->openfl) (5.3.5)\n",
            "Requirement already satisfied: tornado>=4.0 in /usr/local/lib/python3.7/dist-packages (from ipykernel->openfl) (5.1.1)\n",
            "Requirement already satisfied: ipython>=4.0.0 in /usr/local/lib/python3.7/dist-packages (from ipykernel->openfl) (5.5.0)\n",
            "Requirement already satisfied: idna<3,>=2.5 in /usr/local/lib/python3.7/dist-packages (from requests!=2.18.0,>=2.14.2->docker->openfl) (2.10)\n",
            "Requirement already satisfied: chardet<4,>=3.0.2 in /usr/local/lib/python3.7/dist-packages (from requests!=2.18.0,>=2.14.2->docker->openfl) (3.0.4)\n",
            "Requirement already satisfied: urllib3!=1.25.0,!=1.25.1,<1.26,>=1.21.1 in /usr/local/lib/python3.7/dist-packages (from requests!=2.18.0,>=2.14.2->docker->openfl) (1.24.3)\n",
            "Requirement already satisfied: certifi>=2017.4.17 in /usr/local/lib/python3.7/dist-packages (from requests!=2.18.0,>=2.14.2->docker->openfl) (2020.12.5)\n",
            "Requirement already satisfied: prompt-toolkit<2.0.0,>=1.0.0 in /usr/local/lib/python3.7/dist-packages (from jupyter-console->jupyter->openfl) (1.0.18)\n",
            "Requirement already satisfied: jupyter-core>=4.4.0 in /usr/local/lib/python3.7/dist-packages (from notebook->jupyter->openfl) (4.7.1)\n",
            "Requirement already satisfied: terminado>=0.8.1 in /usr/local/lib/python3.7/dist-packages (from notebook->jupyter->openfl) (0.9.2)\n",
            "Requirement already satisfied: nbformat in /usr/local/lib/python3.7/dist-packages (from notebook->jupyter->openfl) (5.1.2)\n",
            "Requirement already satisfied: jinja2 in /usr/local/lib/python3.7/dist-packages (from notebook->jupyter->openfl) (2.11.3)\n",
            "Requirement already satisfied: ipython-genutils in /usr/local/lib/python3.7/dist-packages (from notebook->jupyter->openfl) (0.2.0)\n",
            "Requirement already satisfied: Send2Trash in /usr/local/lib/python3.7/dist-packages (from notebook->jupyter->openfl) (1.5.0)\n",
            "Requirement already satisfied: jupyterlab-widgets>=1.0.0; python_version >= \"3.6\" in /usr/local/lib/python3.7/dist-packages (from ipywidgets->jupyter->openfl) (1.0.0)\n",
            "Requirement already satisfied: widgetsnbextension~=3.5.0 in /usr/local/lib/python3.7/dist-packages (from ipywidgets->jupyter->openfl) (3.5.1)\n",
            "Requirement already satisfied: qtpy in /usr/local/lib/python3.7/dist-packages (from qtconsole->jupyter->openfl) (1.9.0)\n",
            "Requirement already satisfied: pyzmq>=17.1 in /usr/local/lib/python3.7/dist-packages (from qtconsole->jupyter->openfl) (22.0.3)\n",
            "Requirement already satisfied: pandocfilters>=1.4.1 in /usr/local/lib/python3.7/dist-packages (from nbconvert->jupyter->openfl) (1.4.3)\n",
            "Requirement already satisfied: bleach in /usr/local/lib/python3.7/dist-packages (from nbconvert->jupyter->openfl) (3.3.0)\n",
            "Requirement already satisfied: entrypoints>=0.2.2 in /usr/local/lib/python3.7/dist-packages (from nbconvert->jupyter->openfl) (0.3)\n",
            "Requirement already satisfied: testpath in /usr/local/lib/python3.7/dist-packages (from nbconvert->jupyter->openfl) (0.4.4)\n",
            "Requirement already satisfied: mistune<2,>=0.8.1 in /usr/local/lib/python3.7/dist-packages (from nbconvert->jupyter->openfl) (0.8.4)\n",
            "Requirement already satisfied: defusedxml in /usr/local/lib/python3.7/dist-packages (from nbconvert->jupyter->openfl) (0.6.0)\n",
            "Requirement already satisfied: pycparser in /usr/local/lib/python3.7/dist-packages (from cffi>=1.12->cryptography->openfl) (2.20)\n",
            "Requirement already satisfied: pexpect; sys_platform != \"win32\" in /usr/local/lib/python3.7/dist-packages (from ipython>=4.0.0->ipykernel->openfl) (4.8.0)\n",
            "Requirement already satisfied: decorator in /usr/local/lib/python3.7/dist-packages (from ipython>=4.0.0->ipykernel->openfl) (4.4.2)\n",
            "Requirement already satisfied: pickleshare in /usr/local/lib/python3.7/dist-packages (from ipython>=4.0.0->ipykernel->openfl) (0.7.5)\n",
            "Requirement already satisfied: simplegeneric>0.8 in /usr/local/lib/python3.7/dist-packages (from ipython>=4.0.0->ipykernel->openfl) (0.8.1)\n",
            "Requirement already satisfied: wcwidth in /usr/local/lib/python3.7/dist-packages (from prompt-toolkit<2.0.0,>=1.0.0->jupyter-console->jupyter->openfl) (0.2.5)\n",
            "Requirement already satisfied: ptyprocess; os_name != \"nt\" in /usr/local/lib/python3.7/dist-packages (from terminado>=0.8.1->notebook->jupyter->openfl) (0.7.0)\n",
            "Requirement already satisfied: jsonschema!=2.5.0,>=2.4 in /usr/local/lib/python3.7/dist-packages (from nbformat->notebook->jupyter->openfl) (2.6.0)\n",
            "Requirement already satisfied: MarkupSafe>=0.23 in /usr/local/lib/python3.7/dist-packages (from jinja2->notebook->jupyter->openfl) (1.1.1)\n",
            "Requirement already satisfied: packaging in /usr/local/lib/python3.7/dist-packages (from bleach->nbconvert->jupyter->openfl) (20.9)\n",
            "Requirement already satisfied: webencodings in /usr/local/lib/python3.7/dist-packages (from bleach->nbconvert->jupyter->openfl) (0.5.1)\n",
            "Requirement already satisfied: pyparsing>=2.0.2 in /usr/local/lib/python3.7/dist-packages (from packaging->bleach->nbconvert->jupyter->openfl) (2.4.7)\n",
            "Building wheels for collected packages: flatten-json\n",
            "  Building wheel for flatten-json (setup.py) ... \u001b[?25l\u001b[?25hdone\n",
            "  Created wheel for flatten-json: filename=flatten_json-0.1.13-cp37-none-any.whl size=7969 sha256=653b8aeedfcfef41628fa614049397d863130b9689dbba99d7380b479b622821\n",
            "  Stored in directory: /root/.cache/pip/wheels/2f/55/29/7b552f0b137c7adb26493e5a6405c862c111352fe32ae91de8\n",
            "Successfully built flatten-json\n",
            "\u001b[31mERROR: tensorflow 2.4.1 has requirement grpcio~=1.32.0, but you'll have grpcio 1.30.0 which is incompatible.\u001b[0m\n",
            "Installing collected packages: websocket-client, docker, flatten-json, grpcio, PyYAML, grpcio-tools, cryptography, colorama, commonmark, rich, openfl\n",
            "  Found existing installation: grpcio 1.32.0\n",
            "    Uninstalling grpcio-1.32.0:\n",
            "      Successfully uninstalled grpcio-1.32.0\n",
            "  Found existing installation: PyYAML 3.13\n",
            "    Uninstalling PyYAML-3.13:\n",
            "      Successfully uninstalled PyYAML-3.13\n",
            "Successfully installed PyYAML-5.4.1 colorama-0.4.4 commonmark-0.9.1 cryptography-3.4.6 docker-4.4.4 flatten-json-0.1.13 grpcio-1.30.0 grpcio-tools-1.30.0 openfl-1.0 rich-9.1.0 websocket-client-0.57.0\n"
          ],
          "name": "stdout"
        }
      ]
    },
    {
      "cell_type": "code",
      "metadata": {
        "colab": {
          "base_uri": "https://localhost:8080/"
        },
        "id": "vLsCxzDSAjq2",
        "outputId": "f165ed84-bdb0-453d-8e99-e9521418a41c"
      },
      "source": [
        "!pip install torch torchvision mnist\n"
      ],
      "execution_count": null,
      "outputs": [
        {
          "output_type": "stream",
          "text": [
            "Requirement already satisfied: torch in /usr/local/lib/python3.7/dist-packages (1.7.1+cu101)\n",
            "Requirement already satisfied: torchvision in /usr/local/lib/python3.7/dist-packages (0.8.2+cu101)\n",
            "Collecting mnist\n",
            "  Downloading https://files.pythonhosted.org/packages/c6/c4/5db3bfe009f8d71f1d532bbadbd0ec203764bba3a469e4703a889db8e5e0/mnist-0.2.2-py2.py3-none-any.whl\n",
            "Requirement already satisfied: numpy in /usr/local/lib/python3.7/dist-packages (from torch) (1.19.5)\n",
            "Requirement already satisfied: typing-extensions in /usr/local/lib/python3.7/dist-packages (from torch) (3.7.4.3)\n",
            "Requirement already satisfied: pillow>=4.1.1 in /usr/local/lib/python3.7/dist-packages (from torchvision) (7.0.0)\n",
            "Installing collected packages: mnist\n",
            "Successfully installed mnist-0.2.2\n"
          ],
          "name": "stdout"
        }
      ]
    },
    {
      "cell_type": "code",
      "metadata": {
        "id": "BVAkdW3bAqij"
      },
      "source": [
        "import numpy as np\n",
        "import torch\n",
        "import torch.nn as nn\n",
        "import torch.nn.functional as F\n",
        "import torch.optim as optim\n",
        " \n",
        "import torchvision\n",
        "import torchvision.transforms as transforms\n",
        "import openfl.native as fx\n",
        "from openfl.federated import FederatedModel,FederatedDataSet\n"
      ],
      "execution_count": null,
      "outputs": []
    },
    {
      "cell_type": "code",
      "metadata": {
        "colab": {
          "base_uri": "https://localhost:8080/"
        },
        "id": "ozeN-BfKAyXS",
        "outputId": "976685e8-a2fe-4795-cd91-4d0b259ef6e1"
      },
      "source": [
        "fx.init('torch_cnn_mnist')"
      ],
      "execution_count": null,
      "outputs": [
        {
          "output_type": "stream",
          "text": [
            "Creating Workspace Directories\n",
            "Creating Workspace Templates\n",
            "Successfully installed packages from /root/.local/workspace/requirements.txt.\n",
            "\n",
            "New workspace directory structure:\n",
            "workspace\n",
            "├── plan\n",
            "│   ├── plan.yaml\n",
            "│   ├── cols.yaml\n",
            "│   ├── defaults\n",
            "│   │   ├── tasks_fast_estimator.yaml\n",
            "│   │   ├── tasks_keras.yaml\n",
            "│   │   ├── collaborator.yaml\n",
            "│   │   ├── network.yaml\n",
            "│   │   ├── data_loader.yaml\n",
            "│   │   ├── tasks_tensorflow.yaml\n",
            "│   │   ├── defaults\n",
            "│   │   ├── tasks_torch.yaml\n",
            "│   │   ├── assigner.yaml\n",
            "│   │   ├── aggregator.yaml\n",
            "│   │   └── task_runner.yaml\n",
            "│   └── data.yaml\n",
            "├── requirements.txt\n",
            "├── logs\n",
            "├── .workspace\n",
            "├── save\n",
            "├── code\n",
            "│   ├── ptmnist_inmemory.py\n",
            "│   ├── __init__.py\n",
            "│   ├── mnist_utils.py\n",
            "│   └── pt_cnn.py\n",
            "├── data\n",
            "└── cert\n",
            "\n",
            "7 directories, 20 files\n",
            "Setting Up Certificate Authority...\n",
            "\n",
            "1.  Create Root CA\n",
            "1.1 Create Directories\n",
            "1.2 Create Database\n",
            "1.3 Create CA Request and Certificate\n",
            "2.  Create Signing Certificate\n",
            "2.1 Create Directories\n",
            "2.2 Create Database\n",
            "2.3 Create Signing Certificate CSR\n",
            "2.4 Sign Signing Certificate CSR\n",
            "3   Create Certificate Chain\n",
            "\n",
            "Done.\n",
            "Creating AGGREGATOR certificate key pair with following settings: CN=\u001b[31mnone\u001b[0m, SAN=\u001b[31mDNS:none\u001b[0m\n",
            "  Writing AGGREGATOR certificate key pair to: \u001b[32mcert/server\u001b[0m\n",
            "The CSR Hash for file \u001b[32mserver/agg_none.csr\u001b[0m = \u001b[31m5a54b7f7f4cc39c8c26f782304b974b198c4922048b54796e2387a0e007992db7de1bcb653cfa5392039b12d59f7d3ca\u001b[0m\n",
            " Signing AGGREGATOR certificate\n",
            "Creating COLLABORATOR certificate key pair with following settings: CN=\u001b[31mone\u001b[0m, SAN=\u001b[31mDNS:one\u001b[0m\n",
            "  Moving COLLABORATOR certificate to: \u001b[32mcert/col_one\u001b[0m\n",
            "The CSR Hash for file \u001b[32mcol_one.csr\u001b[0m = \u001b[31m9da35015e36c936b33eb380825a5d75e13146bfc9fe6397468ba5abb5b8eae4dc9b7d181773c93507d6abd23ca40d301\u001b[0m\n",
            " Signing COLLABORATOR certificate\n",
            "\n",
            "Registering \u001b[32mone\u001b[0m in \u001b[32mplan/cols.yaml\u001b[0m\n",
            "Creating COLLABORATOR certificate key pair with following settings: CN=\u001b[31mtwo\u001b[0m, SAN=\u001b[31mDNS:two\u001b[0m\n",
            "  Moving COLLABORATOR certificate to: \u001b[32mcert/col_two\u001b[0m\n",
            "The CSR Hash for file \u001b[32mcol_two.csr\u001b[0m = \u001b[31m381d41ccfdaeff3f17c600540db56fd78ee3f5ac4dfc29301fd151606de874cf5f5109f04706305c83bcbb5bd4f2a53c\u001b[0m\n",
            " Signing COLLABORATOR certificate\n",
            "\n",
            "Registering \u001b[32mtwo\u001b[0m in \u001b[32mplan/cols.yaml\u001b[0m\n"
          ],
          "name": "stdout"
        }
      ]
    },
    {
      "cell_type": "code",
      "metadata": {
        "id": "SAuX5J6DBTha"
      },
      "source": [
        "def one_hot(labels, classes):\n",
        "    return np.eye(classes)[labels]\n"
      ],
      "execution_count": null,
      "outputs": []
    },
    {
      "cell_type": "code",
      "metadata": {
        "id": "_7d_J3exBZ2-"
      },
      "source": [
        " \n",
        "trf = transforms.Compose(\n",
        "    [transforms.ToTensor(),\n",
        "     transforms.Normalize((0.5, 0.5, 0.5), (0.5, 0.5, 0.5))])\n"
      ],
      "execution_count": null,
      "outputs": []
    },
    {
      "cell_type": "code",
      "metadata": {
        "colab": {
          "base_uri": "https://localhost:8080/",
          "height": 420,
          "referenced_widgets": [
            "fa0239cb630c40abb9c5dacba8a370ff",
            "8d43770835d044d8b4e0a4a8060e30e2",
            "e494e0043a4a4102a29fc6459bee77f4",
            "943ef33d99604a7798cf3fd3607eea7c",
            "09a207512f5e4003ba8fc7e78cda7616",
            "ce9bbc32ab5f4061a401f8789d2eb062",
            "b9511781cd734423abd9ad04af294693",
            "0cc0d6cddc3b4e85902347988bca5aa0",
            "8d727f8c4dc94f81862f6feb41b9c1ca",
            "457a2ca1b3314275ba645adb22fc73b9",
            "871761b14d2e45dba36bf73c374d3243",
            "3f5b975a782745d8b434be2b4377c133",
            "6a96664b70334aaea64f15b03f19891f",
            "263f0f201e0640ad99e8c7570f9364d3",
            "60cf1d426f4c46e48f0085ae7b68581e",
            "719443a529d94e94a84a2cf53033ebaf",
            "6700b488d48144f08db79812989eddf4",
            "c5c0464b6cc446d5b93114b9f9541a54",
            "308bf08b0a5f4b3e83bdeb830877815e",
            "125f4244333a41669f67c5bba5c80f82",
            "c40fbccc12994c53a9433f0bde8a36c9",
            "aabd188b814c4885b184c69e08f3a14b",
            "a50084768e8e4b4bb1c43c01830b7287",
            "a01f45cfdd5745a0b7fd0606c578dc7a",
            "b89c783bc6c9456498ee51ce735ba4ad",
            "79b57911e0bb43b4a0e2d36ebbfaffef",
            "b8f4b4731dba44d895d252761e66fffd",
            "e56f1fff24e146b0b70476e42ecb05d2",
            "def8289b379243578764d97de220b829",
            "25b939fb1cf1484b918cb10f5d14a5a1",
            "89521db49aa54d6b822c4cf7cfb201f9",
            "26395b603d974ce59acc18a9a83c5007"
          ]
        },
        "id": "oFNbDTBfCoKM",
        "outputId": "a5888ae1-4938-42bd-eadb-462b888b4dd6"
      },
      "source": [
        "train = torchvision.datasets.MNIST(root='./data', train=True,\n",
        "                                 download=True, transform=trf)\n"
      ],
      "execution_count": null,
      "outputs": [
        {
          "output_type": "stream",
          "text": [
            "Downloading http://yann.lecun.com/exdb/mnist/train-images-idx3-ubyte.gz to ./data/MNIST/raw/train-images-idx3-ubyte.gz\n"
          ],
          "name": "stdout"
        },
        {
          "output_type": "display_data",
          "data": {
            "application/vnd.jupyter.widget-view+json": {
              "model_id": "fa0239cb630c40abb9c5dacba8a370ff",
              "version_minor": 0,
              "version_major": 2
            },
            "text/plain": [
              "HBox(children=(FloatProgress(value=1.0, bar_style='info', max=1.0), HTML(value='')))"
            ]
          },
          "metadata": {
            "tags": []
          }
        },
        {
          "output_type": "stream",
          "text": [
            "Extracting ./data/MNIST/raw/train-images-idx3-ubyte.gz to ./data/MNIST/raw\n",
            "Downloading http://yann.lecun.com/exdb/mnist/train-labels-idx1-ubyte.gz to ./data/MNIST/raw/train-labels-idx1-ubyte.gz\n"
          ],
          "name": "stdout"
        },
        {
          "output_type": "display_data",
          "data": {
            "application/vnd.jupyter.widget-view+json": {
              "model_id": "8d727f8c4dc94f81862f6feb41b9c1ca",
              "version_minor": 0,
              "version_major": 2
            },
            "text/plain": [
              "HBox(children=(FloatProgress(value=1.0, bar_style='info', max=1.0), HTML(value='')))"
            ]
          },
          "metadata": {
            "tags": []
          }
        },
        {
          "output_type": "stream",
          "text": [
            "Extracting ./data/MNIST/raw/train-labels-idx1-ubyte.gz to ./data/MNIST/raw\n",
            "Downloading http://yann.lecun.com/exdb/mnist/t10k-images-idx3-ubyte.gz to ./data/MNIST/raw/t10k-images-idx3-ubyte.gz\n"
          ],
          "name": "stdout"
        },
        {
          "output_type": "display_data",
          "data": {
            "application/vnd.jupyter.widget-view+json": {
              "model_id": "6700b488d48144f08db79812989eddf4",
              "version_minor": 0,
              "version_major": 2
            },
            "text/plain": [
              "HBox(children=(FloatProgress(value=1.0, bar_style='info', max=1.0), HTML(value='')))"
            ]
          },
          "metadata": {
            "tags": []
          }
        },
        {
          "output_type": "stream",
          "text": [
            "Extracting ./data/MNIST/raw/t10k-images-idx3-ubyte.gz to ./data/MNIST/raw\n",
            "Downloading http://yann.lecun.com/exdb/mnist/t10k-labels-idx1-ubyte.gz to ./data/MNIST/raw/t10k-labels-idx1-ubyte.gz\n"
          ],
          "name": "stdout"
        },
        {
          "output_type": "display_data",
          "data": {
            "application/vnd.jupyter.widget-view+json": {
              "model_id": "b89c783bc6c9456498ee51ce735ba4ad",
              "version_minor": 0,
              "version_major": 2
            },
            "text/plain": [
              "HBox(children=(FloatProgress(value=1.0, bar_style='info', max=1.0), HTML(value='')))"
            ]
          },
          "metadata": {
            "tags": []
          }
        },
        {
          "output_type": "stream",
          "text": [
            "Extracting ./data/MNIST/raw/t10k-labels-idx1-ubyte.gz to ./data/MNIST/raw\n",
            "Processing...\n",
            "\n",
            "\n",
            "\n",
            "Done!\n"
          ],
          "name": "stdout"
        },
        {
          "output_type": "stream",
          "text": [
            "/usr/local/lib/python3.7/dist-packages/torchvision/datasets/mnist.py:480: UserWarning: The given NumPy array is not writeable, and PyTorch does not support non-writeable tensors. This means you can write to the underlying (supposedly non-writeable) NumPy array using the tensor. You may want to copy the array to protect its data or make it writeable before converting it to a tensor. This type of warning will be suppressed for the rest of this program. (Triggered internally at  /pytorch/torch/csrc/utils/tensor_numpy.cpp:141.)\n",
            "  return torch.from_numpy(parsed.astype(m[2], copy=False)).view(*s)\n"
          ],
          "name": "stderr"
        }
      ]
    },
    {
      "cell_type": "code",
      "metadata": {
        "colab": {
          "base_uri": "https://localhost:8080/"
        },
        "id": "ZdjteVrmCsKl",
        "outputId": "7ad069cd-955c-4774-b8ea-7e8dc92d32ca"
      },
      "source": [
        "t_img,t_label = train.train_data,np.array(train.train_labels)\n",
        " \n",
        "#numpy.expand_dims() expands the shape of t_img array\n",
        "#torch.from_numpy() forms a tensor from a numpy.ndarray\n",
        "t_img = torch.from_numpy(np.expand_dims(t_img,  \n",
        "axis=1)).float()\n",
        " \n",
        "#Form one-hot encoding representation of labels by calling one_hot()  \n",
        "\n",
        "t_label = one_hot(t_label,10) #10 is number of output classes\n"
      ],
      "execution_count": null,
      "outputs": [
        {
          "output_type": "stream",
          "text": [
            "/usr/local/lib/python3.7/dist-packages/torchvision/datasets/mnist.py:58: UserWarning: train_data has been renamed data\n",
            "  warnings.warn(\"train_data has been renamed data\")\n",
            "/usr/local/lib/python3.7/dist-packages/torchvision/datasets/mnist.py:48: UserWarning: train_labels has been renamed targets\n",
            "  warnings.warn(\"train_labels has been renamed targets\")\n"
          ],
          "name": "stderr"
        }
      ]
    },
    {
      "cell_type": "code",
      "metadata": {
        "id": "9HmOugEwC1wI"
      },
      "source": [
        "valid = torchvision.datasets.MNIST(root='./data', train=False, download=True,transform=trf)"
      ],
      "execution_count": null,
      "outputs": []
    },
    {
      "cell_type": "code",
      "metadata": {
        "colab": {
          "base_uri": "https://localhost:8080/"
        },
        "id": "CQ1YvP7hC9ll",
        "outputId": "ad43b3f2-d5dc-4c9d-c534-ed1efe73f002"
      },
      "source": [
        "v_img,v_label = valid.test_data, np.array(valid.test_labels)\n",
        "v_img = torch.from_numpy(np.expand_dims(v_img, axis=1)).float()\n",
        "v_label = one_hot(v_label,10)\n"
      ],
      "execution_count": null,
      "outputs": [
        {
          "output_type": "stream",
          "text": [
            "/usr/local/lib/python3.7/dist-packages/torchvision/datasets/mnist.py:63: UserWarning: test_data has been renamed data\n",
            "  warnings.warn(\"test_data has been renamed data\")\n",
            "/usr/local/lib/python3.7/dist-packages/torchvision/datasets/mnist.py:53: UserWarning: test_labels has been renamed targets\n",
            "  warnings.warn(\"test_labels has been renamed targets\")\n"
          ],
          "name": "stderr"
        }
      ]
    },
    {
      "cell_type": "code",
      "metadata": {
        "id": "wp_bAXzMDDyo"
      },
      "source": [
        "feature_shape = t_img.shape[1]\n",
        "classes = 10\n",
        " \n",
        "#Prepare data for federation\n",
        "data = FederatedDataSet(t_img,t_label,v_img,v_label,batch_size=32,\n",
        "num_classes=classes)\n"
      ],
      "execution_count": null,
      "outputs": []
    },
    {
      "cell_type": "code",
      "metadata": {
        "id": "J8QjyIUbDIzZ"
      },
      "source": [
        "class Net(nn.Module):\n",
        "    def __init__(self):\n",
        "        super(Net, self).__init__()\n",
        "        self.conv1 = nn.Conv2d(1, 16, 3) #1st convolution\n",
        "        self.pool = nn.MaxPool2d(2, 2) #pooling layer \n",
        "        self.conv2 = nn.Conv2d(16, 32, 3) #2nd convolution\n",
        "\t #1st fully connected layer\n",
        "        self.fc1 = nn.Linear(32 * 5 * 5, 32) \n",
        "        self.fc2 = nn.Linear(32, 84) #2nd fully connected layer\n",
        "        self.fc3 = nn.Linear(84, 10) #3rd fully connected layer\n",
        " \n",
        "    def forward(self, x):  #forward propagation\n",
        "        x = self.pool(F.relu(self.conv1(x)))#pooling layer\n",
        "        x = self.pool(F.relu(self.conv2(x))) #pooling layer\n",
        "        x = x.view(x.size(0),-1)\n",
        "        x = F.relu(self.fc1(x)) #activation for 1st FC layer\n",
        "        x = F.relu(self.fc2(x)) #activation for 2nd FC layer\n",
        "        x = self.fc3(x)\n",
        "        return F.log_softmax(x, dim=1)\n"
      ],
      "execution_count": null,
      "outputs": []
    },
    {
      "cell_type": "code",
      "metadata": {
        "id": "pk3myFR7DS9F"
      },
      "source": [
        "opt = lambda x: optim.Adam(x, lr=1e-4)"
      ],
      "execution_count": null,
      "outputs": []
    },
    {
      "cell_type": "code",
      "metadata": {
        "id": "rE1Pj5-DDWm3"
      },
      "source": [
        "def cross_entropy(output, target):\n",
        "    \"\"\"Binary cross-entropy metric\n",
        "    \"\"\"\n",
        "    return F.binary_cross_entropy_with_logits(input=output,target=target)\n"
      ],
      "execution_count": null,
      "outputs": []
    },
    {
      "cell_type": "code",
      "metadata": {
        "colab": {
          "base_uri": "https://localhost:8080/"
        },
        "id": "kwAsyP9DDa4C",
        "outputId": "180c0c85-9a51-4e32-f403-6743a3d55b64"
      },
      "source": [
        "fmodel = FederatedModel(build_model=Net,optimizer=opt,\n",
        "loss_fn=cross_entropy,data_loader=data)\n"
      ],
      "execution_count": null,
      "outputs": [
        {
          "output_type": "stream",
          "text": [
            "[14:00:16] WARNING  tried to remove tensor: __opt_state_needed not present in the tensor dict                                                        utils.py:86\n"
          ],
          "name": "stdout"
        }
      ]
    },
    {
      "cell_type": "code",
      "metadata": {
        "colab": {
          "base_uri": "https://localhost:8080/"
        },
        "id": "zTgmhCaMFvqK",
        "outputId": "7d7b5b76-b802-4010-8c35-06579b09688d"
      },
      "source": [
        "c_models = fmodel.setup(num_collaborators=2)\n",
        "#Define which collaborators will take part in the experiment\n",
        "collaborators = {'one':c_models[0],'Two':c_models[1]}\n"
      ],
      "execution_count": null,
      "outputs": [
        {
          "output_type": "stream",
          "text": [
            "[14:01:08] WARNING  tried to remove tensor: __opt_state_needed not present in the tensor dict                                                        utils.py:86\n",
            "           WARNING  tried to remove tensor: __opt_state_needed not present in the tensor dict                                                        utils.py:86\n"
          ],
          "name": "stdout"
        }
      ]
    },
    {
      "cell_type": "code",
      "metadata": {
        "colab": {
          "base_uri": "https://localhost:8080/"
        },
        "id": "-F_Q90_6F2PE",
        "outputId": "44691e6c-d0fa-451d-e2fc-3a7c78ca4c20"
      },
      "source": [
        "#Original MNIST dataset\n",
        "print(f'Original training data size: {len(t_img)}')\n",
        "print(f'Original validation data size: {len(v_img)}\\n')\n",
        " \n",
        "#1st collaborator’s data\n",
        "print(f'Collaborator 1\\'s training data size: {len(c_models[0].data_loader.X_train)}')\n",
        "print(f'Collaborator 1\\'s validation data size: {len(c_models[0].data_loader.X_valid)}\\n')\n",
        " \n",
        "#2nd collaborator's data\n",
        "print(f'Collaborator 2\\'s training data size: {len(c_models[1].data_loader.X_train)}')\n",
        "print(f'Collaborator 2\\'s validation data size: {len(c_models[1].data_loader.X_valid)}\\n')\n"
      ],
      "execution_count": null,
      "outputs": [
        {
          "output_type": "stream",
          "text": [
            "Original training data size: 60000\n",
            "Original validation data size: 10000\n",
            "\n",
            "Collaborator 1's training data size: 30000\n",
            "Collaborator 1's validation data size: 5000\n",
            "\n",
            "Collaborator 2's training data size: 30000\n",
            "Collaborator 2's validation data size: 5000\n",
            "\n"
          ],
          "name": "stdout"
        }
      ]
    },
    {
      "cell_type": "code",
      "metadata": {
        "colab": {
          "base_uri": "https://localhost:8080/"
        },
        "id": "YTTCv5kkGG3t",
        "outputId": "4e49fc01-4791-4898-854e-021884f4356b"
      },
      "source": [
        "import json\n",
        "#fx.get_plan() command returns all the plan values that can be set\n",
        "print(json.dumps(fx.get_plan(), indent=4, sort_keys=True))\n",
        " \n"
      ],
      "execution_count": null,
      "outputs": [
        {
          "output_type": "stream",
          "text": [
            "{\n",
            "    \"aggregator.settings.best_state_path\": \"save/torch_cnn_mnist_best.pbuf\",\n",
            "    \"aggregator.settings.db_store_rounds\": 1,\n",
            "    \"aggregator.settings.init_state_path\": \"save/torch_cnn_mnist_init.pbuf\",\n",
            "    \"aggregator.settings.last_state_path\": \"save/torch_cnn_mnist_last.pbuf\",\n",
            "    \"aggregator.settings.rounds_to_train\": 10,\n",
            "    \"aggregator.template\": \"openfl.component.Aggregator\",\n",
            "    \"assigner.settings.task_groups\": [\n",
            "        {\n",
            "            \"name\": \"train_and_validate\",\n",
            "            \"percentage\": 1.0,\n",
            "            \"tasks\": [\n",
            "                \"aggregated_model_validation\",\n",
            "                \"train\",\n",
            "                \"locally_tuned_model_validation\"\n",
            "            ]\n",
            "        }\n",
            "    ],\n",
            "    \"assigner.template\": \"openfl.component.RandomGroupedAssigner\",\n",
            "    \"collaborator.settings.db_store_rounds\": 1,\n",
            "    \"collaborator.settings.delta_updates\": false,\n",
            "    \"collaborator.settings.opt_treatment\": \"RESET\",\n",
            "    \"collaborator.template\": \"openfl.component.Collaborator\",\n",
            "    \"data_loader.settings.batch_size\": 256,\n",
            "    \"data_loader.settings.collaborator_count\": 2,\n",
            "    \"data_loader.settings.data_group_name\": \"mnist\",\n",
            "    \"data_loader.template\": \"code.ptmnist_inmemory.PyTorchMNISTInMemory\",\n",
            "    \"network.settings.agg_addr\": \"07d0d1d02bda\",\n",
            "    \"network.settings.agg_port\": 57377,\n",
            "    \"network.settings.cert_folder\": \"cert\",\n",
            "    \"network.settings.client_reconnect_interval\": 5,\n",
            "    \"network.settings.disable_client_auth\": false,\n",
            "    \"network.settings.disable_tls\": false,\n",
            "    \"network.settings.hash_salt\": \"auto\",\n",
            "    \"network.template\": \"openfl.federation.Network\",\n",
            "    \"task_runner.settings\": {},\n",
            "    \"task_runner.template\": \"code.pt_cnn.PyTorchCNN\",\n",
            "    \"tasks.aggregated_model_validation.function\": \"validate\",\n",
            "    \"tasks.aggregated_model_validation.kwargs\": {\n",
            "        \"apply\": \"global\",\n",
            "        \"metrics\": [\n",
            "            \"acc\"\n",
            "        ]\n",
            "    },\n",
            "    \"tasks.locally_tuned_model_validation.function\": \"validate\",\n",
            "    \"tasks.locally_tuned_model_validation.kwargs\": {\n",
            "        \"apply\": \"local\",\n",
            "        \"metrics\": [\n",
            "            \"acc\"\n",
            "        ]\n",
            "    },\n",
            "    \"tasks.settings\": {},\n",
            "    \"tasks.train.function\": \"train_batches\",\n",
            "    \"tasks.train.kwargs\": {\n",
            "        \"metrics\": [\n",
            "            \"loss\"\n",
            "        ]\n",
            "    }\n",
            "}\n"
          ],
          "name": "stdout"
        }
      ]
    },
    {
      "cell_type": "code",
      "metadata": {
        "colab": {
          "base_uri": "https://localhost:8080/"
        },
        "id": "AjIQe-CUGXCS",
        "outputId": "0194bf26-012d-4052-f59a-eb53664830e7"
      },
      "source": [
        "final_model = fx.run_experiment(collaborators,{'aggregator.settings.rounds_to_train':5})\n"
      ],
      "execution_count": null,
      "outputs": [
        {
          "output_type": "stream",
          "text": [
            "[14:04:18] INFO     Updating aggregator.settings.rounds_to_train to 5...                                                                           native.py:106\n",
            "           INFO     Loading DEFAULTS for section aggregator from file plan/defaults/aggregator.yaml.                                                  plan.py:95\n",
            "           INFO     Loading DEFAULTS for section assigner from file plan/defaults/assigner.yaml.                                                      plan.py:95\n",
            "           INFO     Loading DEFAULTS for section collaborator from file plan/defaults/collaborator.yaml.                                              plan.py:95\n",
            "           INFO     Loading DEFAULTS for section data_loader from file plan/defaults/data_loader.yaml.                                                plan.py:95\n",
            "           INFO     Loading DEFAULTS for section network from file plan/defaults/network.yaml.                                                        plan.py:95\n",
            "           INFO     Loading DEFAULTS for section task_runner from file plan/defaults/task_runner.yaml.                                                plan.py:95\n",
            "           INFO     Loading DEFAULTS for section tasks from file plan/defaults/tasks_torch.yaml.                                                      plan.py:95\n",
            "           INFO     FL-Plan hash is 8095a3508c3645f70fe7a0a406d85b42bd385c87fe9dbb50face48a125f6058c72ea1cb9baaaea464ef9a34d605d03b6                 plan.py:203\n",
            "           INFO     Parsing Federated Learning Plan : SUCCESS : plan/plan.yaml.                                                                      plan.py:131\n",
            "           INFO     aggregator:                                                                                                                      plan.py:132\n",
            "                      defaults: plan/defaults/aggregator.yaml                                                                                                   \n",
            "                      settings:                                                                                                                                 \n",
            "                        best_state_path: save/torch_cnn_mnist_best.pbuf                                                                                         \n",
            "                        db_store_rounds: 1                                                                                                                      \n",
            "                        init_state_path: save/torch_cnn_mnist_init.pbuf                                                                                         \n",
            "                        last_state_path: save/torch_cnn_mnist_last.pbuf                                                                                         \n",
            "                        rounds_to_train: 5                                                                                                                      \n",
            "                      template: openfl.component.Aggregator                                                                                                     \n",
            "                    assigner:                                                                                                                                   \n",
            "                      defaults: plan/defaults/assigner.yaml                                                                                                     \n",
            "                      settings:                                                                                                                                 \n",
            "                        task_groups:                                                                                                                            \n",
            "                        - name: train_and_validate                                                                                                              \n",
            "                          percentage: 1.0                                                                                                                       \n",
            "                          tasks:                                                                                                                                \n",
            "                          - aggregated_model_validation                                                                                                         \n",
            "                          - train                                                                                                                               \n",
            "                          - locally_tuned_model_validation                                                                                                      \n",
            "                      template: openfl.component.RandomGroupedAssigner                                                                                          \n",
            "                    collaborator:                                                                                                                               \n",
            "                      defaults: plan/defaults/collaborator.yaml                                                                                                 \n",
            "                      settings:                                                                                                                                 \n",
            "                        db_store_rounds: 1                                                                                                                      \n",
            "                        delta_updates: false                                                                                                                    \n",
            "                        opt_treatment: RESET                                                                                                                    \n",
            "                      template: openfl.component.Collaborator                                                                                                   \n",
            "                    data_loader:                                                                                                                                \n",
            "                      defaults: plan/defaults/data_loader.yaml                                                                                                  \n",
            "                      settings:                                                                                                                                 \n",
            "                        batch_size: 256                                                                                                                         \n",
            "                        collaborator_count: 2                                                                                                                   \n",
            "                        data_group_name: mnist                                                                                                                  \n",
            "                      template: code.ptmnist_inmemory.PyTorchMNISTInMemory                                                                                      \n",
            "                    network:                                                                                                                                    \n",
            "                      defaults: plan/defaults/network.yaml                                                                                                      \n",
            "                      settings:                                                                                                                                 \n",
            "                        agg_addr: 07d0d1d02bda                                                                                                                  \n",
            "                        agg_port: 57377                                                                                                                         \n",
            "                        cert_folder: cert                                                                                                                       \n",
            "                        client_reconnect_interval: 5                                                                                                            \n",
            "                        disable_client_auth: false                                                                                                              \n",
            "                        disable_tls: false                                                                                                                      \n",
            "                        hash_salt: auto                                                                                                                         \n",
            "                      template: openfl.federation.Network                                                                                                       \n",
            "                    task_runner:                                                                                                                                \n",
            "                      defaults: plan/defaults/task_runner.yaml                                                                                                  \n",
            "                      settings: {}                                                                                                                              \n",
            "                      template: code.pt_cnn.PyTorchCNN                                                                                                          \n",
            "                    tasks:                                                                                                                                      \n",
            "                      aggregated_model_validation:                                                                                                              \n",
            "                        function: validate                                                                                                                      \n",
            "                        kwargs:                                                                                                                                 \n",
            "                          apply: global                                                                                                                         \n",
            "                          metrics:                                                                                                                              \n",
            "                          - acc                                                                                                                                 \n",
            "                      defaults: plan/defaults/tasks_torch.yaml                                                                                                  \n",
            "                      locally_tuned_model_validation:                                                                                                           \n",
            "                        function: validate                                                                                                                      \n",
            "                        kwargs:                                                                                                                                 \n",
            "                          apply: local                                                                                                                          \n",
            "                          metrics:                                                                                                                              \n",
            "                          - acc                                                                                                                                 \n",
            "                      settings: {}                                                                                                                              \n",
            "                      train:                                                                                                                                    \n",
            "                        function: train_batches                                                                                                                 \n",
            "                        kwargs:                                                                                                                                 \n",
            "                          metrics:                                                                                                                              \n",
            "                          - loss                                                                                                                                \n",
            "                                                                                                                                                                \n",
            "           INFO     Building 🡆 Object NoCompressionPipeline from openfl.pipelines Module.                                                            plan.py:164\n",
            "           INFO     Settings 🡆 {}                                                                                                                    plan.py:166\n",
            "           INFO     Override 🡆 {}                                                                                                                    plan.py:168\n",
            "[14:04:19] INFO     Creating Initial Weights File    🠆 save/torch_cnn_mnist_init.pbuf                                                              native.py:273\n",
            "           INFO     Starting Experiment...                                                                                                         native.py:277\n",
            "           INFO     Building 🡆 Object RandomGroupedAssigner from openfl.component Module.                                                            plan.py:164\n",
            "           INFO     Settings 🡆 {'task_groups': [{'name': 'train_and_validate', 'percentage': 1.0, 'tasks': ['aggregated_model_validation', 'train',  plan.py:166\n",
            "                    'locally_tuned_model_validation']}], 'authorized_cols': ['one', 'Two'], 'rounds_to_train': 5, 'tasks':                                      \n",
            "                    {'aggregated_model_validation': {'function': 'validate', 'kwargs': {'apply': 'global', 'metrics': ['acc']}},                                \n",
            "                    'locally_tuned_model_validation': {'function': 'validate', 'kwargs': {'apply': 'local', 'metrics': ['acc']}}, 'train':                      \n",
            "                    {'function': 'train_batches', 'kwargs': {'metrics': ['loss']}}, 'defaults': 'plan/defaults/tasks_torch.yaml', 'settings': {}}}              \n",
            "           INFO     Override 🡆 {'defaults': 'plan/defaults/assigner.yaml'}                                                                           plan.py:168\n",
            "           INFO     Building 🡆 Object Aggregator from openfl.component Module.                                                                       plan.py:164\n",
            "           INFO     Settings 🡆 {'db_store_rounds': 1, 'best_state_path': 'save/torch_cnn_mnist_best.pbuf', 'init_state_path':                        plan.py:166\n",
            "                    'save/torch_cnn_mnist_init.pbuf', 'last_state_path': 'save/torch_cnn_mnist_last.pbuf', 'rounds_to_train': 5, 'aggregator_uuid':             \n",
            "                    'aggregator_plan.yaml_8095a350', 'federation_uuid': 'plan.yaml_8095a350', 'authorized_cols': ['one', 'Two'], 'assigner':                    \n",
            "                    <openfl.component.assigner.random_grouped_assigner.RandomGroupedAssigner object at 0x7f4d6e952f90>}                                         \n",
            "           INFO     Override 🡆 {'defaults': 'plan/defaults/aggregator.yaml'}                                                                         plan.py:168\n",
            "           INFO     Building 🡆 Object Collaborator from openfl.component Module.                                                                     plan.py:164\n",
            "           INFO     Settings 🡆 {'opt_treatment': 'RESET', 'delta_updates': False, 'db_store_rounds': 1, 'collaborator_name': 'one',                  plan.py:166\n",
            "                    'aggregator_uuid': 'aggregator_plan.yaml_8095a350', 'federation_uuid': 'plan.yaml_8095a350', 'task_runner':                                 \n",
            "                    <openfl.federated.task.fl_model.FederatedModel object at 0x7f4d7bf598d0>, 'tensor_pipe':                                                    \n",
            "                    <openfl.pipelines.no_compression_pipeline.NoCompressionPipeline object at 0x7f4d7ad46d10>, 'task_config':                                   \n",
            "                    {'aggregated_model_validation': {'function': 'validate', 'kwargs': {'apply': 'global', 'metrics': ['acc']}},                                \n",
            "                    'locally_tuned_model_validation': {'function': 'validate', 'kwargs': {'apply': 'local', 'metrics': ['acc']}}, 'train':                      \n",
            "                    {'function': 'train_batches', 'kwargs': {'metrics': ['loss']}}, 'defaults': 'plan/defaults/tasks_torch.yaml', 'settings': {}},              \n",
            "                    'client': <openfl.component.aggregator.aggregator.Aggregator object at 0x7f4d7acdf450>}                                                     \n",
            "           INFO     Override 🡆 {'defaults': 'plan/defaults/collaborator.yaml'}                                                                       plan.py:168\n",
            "           INFO     Building 🡆 Object Collaborator from openfl.component Module.                                                                     plan.py:164\n",
            "           INFO     Settings 🡆 {'opt_treatment': 'RESET', 'delta_updates': False, 'db_store_rounds': 1, 'collaborator_name': 'Two',                  plan.py:166\n",
            "                    'aggregator_uuid': 'aggregator_plan.yaml_8095a350', 'federation_uuid': 'plan.yaml_8095a350', 'task_runner':                                 \n",
            "                    <openfl.federated.task.fl_model.FederatedModel object at 0x7f4d7bf598d0>, 'tensor_pipe':                                                    \n",
            "                    <openfl.pipelines.no_compression_pipeline.NoCompressionPipeline object at 0x7f4d7ad46d10>, 'task_config':                                   \n",
            "                    {'aggregated_model_validation': {'function': 'validate', 'kwargs': {'apply': 'global', 'metrics': ['acc']}},                                \n",
            "                    'locally_tuned_model_validation': {'function': 'validate', 'kwargs': {'apply': 'local', 'metrics': ['acc']}}, 'train':                      \n",
            "                    {'function': 'train_batches', 'kwargs': {'metrics': ['loss']}}, 'defaults': 'plan/defaults/tasks_torch.yaml', 'settings': {}},              \n",
            "                    'client': <openfl.component.aggregator.aggregator.Aggregator object at 0x7f4d7acdf450>, 'defaults':                                         \n",
            "                    'plan/defaults/collaborator.yaml'}                                                                                                          \n",
            "           INFO     Override 🡆 {'defaults': 'plan/defaults/collaborator.yaml'}                                                                       plan.py:168\n",
            "           INFO     Waiting for tasks...                                                                                                     collaborator.py:156\n",
            "           INFO     Sending tasks to collaborator one for round 0                                                                              aggregator.py:277\n",
            "           INFO     Received the following tasks: ['aggregated_model_validation', 'train', 'locally_tuned_model_validation']                 collaborator.py:145\n"
          ],
          "name": "stdout"
        },
        {
          "output_type": "stream",
          "text": [
            "/usr/local/lib/python3.7/dist-packages/openfl/federated/task/runner_pt.py:98: UserWarning: To copy construct from a tensor, it is recommended to use sourceTensor.clone().detach() or sourceTensor.clone().detach().requires_grad_(True), rather than torch.tensor(sourceTensor).\n",
            "  data, target = pt.tensor(data).to(self.device), pt.tensor(\n"
          ],
          "name": "stderr"
        },
        {
          "output_type": "stream",
          "text": [
            "[14:04:20] INFO     Sending metric for task aggregated_model_validation, round number 0: acc        0.055                                    collaborator.py:366\n",
            "           INFO     Collaborator one is sending task results for aggregated_model_validation, round 0                                          aggregator.py:430\n"
          ],
          "name": "stdout"
        },
        {
          "output_type": "stream",
          "text": [
            "/usr/local/lib/python3.7/dist-packages/openfl/federated/task/runner_pt.py:152: UserWarning: To copy construct from a tensor, it is recommended to use sourceTensor.clone().detach() or sourceTensor.clone().detach().requires_grad_(True), rather than torch.tensor(sourceTensor).\n",
            "  data, target = pt.tensor(data).to(self.device), pt.tensor(\n"
          ],
          "name": "stderr"
        },
        {
          "output_type": "stream",
          "text": [
            "[14:04:35] INFO     Sending metric for task train, round number 0: cross_entropy    0.12506341934204102                                      collaborator.py:366\n",
            "           INFO     Collaborator one is sending task results for train, round 0                                                                aggregator.py:430\n",
            "[14:04:36] INFO     Sending metric for task locally_tuned_model_validation, round number 0: acc     0.9488                                   collaborator.py:366\n",
            "           INFO     Collaborator one is sending task results for locally_tuned_model_validation, round 0                                       aggregator.py:430\n",
            "           INFO     All tasks completed on one for round 0...                                                                                collaborator.py:150\n",
            "           INFO     Waiting for tasks...                                                                                                     collaborator.py:156\n",
            "           INFO     Sending tasks to collaborator Two for round 0                                                                              aggregator.py:277\n",
            "           INFO     Received the following tasks: ['aggregated_model_validation', 'train', 'locally_tuned_model_validation']                 collaborator.py:145\n",
            "[14:04:37] INFO     Sending metric for task aggregated_model_validation, round number 0: acc        0.055                                    collaborator.py:366\n",
            "           INFO     Collaborator Two is sending task results for aggregated_model_validation, round 0                                          aggregator.py:430\n",
            "[14:04:51] INFO     Sending metric for task train, round number 0: cross_entropy    0.12102136760950089                                      collaborator.py:366\n",
            "           INFO     Collaborator Two is sending task results for train, round 0                                                                aggregator.py:430\n",
            "[14:04:52] INFO     Sending metric for task locally_tuned_model_validation, round number 0: acc     0.9496                                   collaborator.py:366\n",
            "           INFO     Collaborator Two is sending task results for locally_tuned_model_validation, round 0                                       aggregator.py:430\n",
            "           INFO     train task metrics...                                                                                                      aggregator.py:694\n",
            "           INFO     cross_entropy:  0.1230                                                                                                     aggregator.py:742\n",
            "           INFO     aggregated_model_validation task metrics...                                                                                aggregator.py:694\n",
            "           INFO     acc:    0.0550                                                                                                             aggregator.py:742\n",
            "           INFO     Saved the best model with score 0.055000                                                                                   aggregator.py:754\n",
            "           INFO     locally_tuned_model_validation task metrics...                                                                             aggregator.py:694\n",
            "[14:04:53] INFO     acc:    0.9492                                                                                                             aggregator.py:742\n",
            "           INFO     Saving round 1 model...                                                                                                    aggregator.py:788\n",
            "           INFO     Starting round 1...                                                                                                        aggregator.py:796\n",
            "           INFO     All tasks completed on Two for round 0...                                                                                collaborator.py:150\n",
            "           INFO     Waiting for tasks...                                                                                                     collaborator.py:156\n",
            "           INFO     Sending tasks to collaborator one for round 1                                                                              aggregator.py:277\n",
            "           INFO     Received the following tasks: ['aggregated_model_validation', 'train', 'locally_tuned_model_validation']                 collaborator.py:145\n",
            "[14:04:54] INFO     Sending metric for task aggregated_model_validation, round number 1: acc        0.9382                                   collaborator.py:366\n",
            "           INFO     Collaborator one is sending task results for aggregated_model_validation, round 1                                          aggregator.py:430\n",
            "[14:05:07] INFO     Sending metric for task train, round number 1: cross_entropy    0.08453183621168137                                      collaborator.py:366\n",
            "           INFO     Collaborator one is sending task results for train, round 1                                                                aggregator.py:430\n",
            "[14:05:09] INFO     Sending metric for task locally_tuned_model_validation, round number 1: acc     0.9666                                   collaborator.py:366\n",
            "           INFO     Collaborator one is sending task results for locally_tuned_model_validation, round 1                                       aggregator.py:430\n",
            "           INFO     All tasks completed on one for round 1...                                                                                collaborator.py:150\n",
            "           INFO     Waiting for tasks...                                                                                                     collaborator.py:156\n",
            "           INFO     Sending tasks to collaborator Two for round 1                                                                              aggregator.py:277\n",
            "           INFO     Received the following tasks: ['aggregated_model_validation', 'train', 'locally_tuned_model_validation']                 collaborator.py:145\n",
            "[14:05:10] INFO     Sending metric for task aggregated_model_validation, round number 1: acc        0.9382                                   collaborator.py:366\n",
            "           INFO     Collaborator Two is sending task results for aggregated_model_validation, round 1                                          aggregator.py:430\n",
            "[14:05:23] INFO     Sending metric for task train, round number 1: cross_entropy    0.08473268151283264                                      collaborator.py:366\n",
            "           INFO     Collaborator Two is sending task results for train, round 1                                                                aggregator.py:430\n",
            "[14:05:24] INFO     Sending metric for task locally_tuned_model_validation, round number 1: acc     0.965                                    collaborator.py:366\n",
            "           INFO     Collaborator Two is sending task results for locally_tuned_model_validation, round 1                                       aggregator.py:430\n",
            "           INFO     train task metrics...                                                                                                      aggregator.py:694\n",
            "           INFO     cross_entropy:  0.0846                                                                                                     aggregator.py:742\n",
            "           INFO     aggregated_model_validation task metrics...                                                                                aggregator.py:694\n",
            "           INFO     acc:    0.9382                                                                                                             aggregator.py:742\n",
            "           INFO     Saved the best model with score 0.938200                                                                                   aggregator.py:754\n",
            "[14:05:25] INFO     locally_tuned_model_validation task metrics...                                                                             aggregator.py:694\n",
            "           INFO     acc:    0.9658                                                                                                             aggregator.py:742\n",
            "           INFO     Saving round 2 model...                                                                                                    aggregator.py:788\n",
            "           INFO     Starting round 2...                                                                                                        aggregator.py:796\n",
            "           INFO     All tasks completed on Two for round 1...                                                                                collaborator.py:150\n",
            "           INFO     Waiting for tasks...                                                                                                     collaborator.py:156\n",
            "           INFO     Sending tasks to collaborator one for round 2                                                                              aggregator.py:277\n",
            "           INFO     Received the following tasks: ['aggregated_model_validation', 'train', 'locally_tuned_model_validation']                 collaborator.py:145\n",
            "[14:05:26] INFO     Sending metric for task aggregated_model_validation, round number 2: acc        0.9688                                   collaborator.py:366\n",
            "           INFO     Collaborator one is sending task results for aggregated_model_validation, round 2                                          aggregator.py:430\n",
            "[14:05:40] INFO     Sending metric for task train, round number 2: cross_entropy    0.07921971380710602                                      collaborator.py:366\n",
            "           INFO     Collaborator one is sending task results for train, round 2                                                                aggregator.py:430\n",
            "[14:05:41] INFO     Sending metric for task locally_tuned_model_validation, round number 2: acc     0.9742                                   collaborator.py:366\n",
            "           INFO     Collaborator one is sending task results for locally_tuned_model_validation, round 2                                       aggregator.py:430\n",
            "           INFO     All tasks completed on one for round 2...                                                                                collaborator.py:150\n",
            "           INFO     Waiting for tasks...                                                                                                     collaborator.py:156\n",
            "           INFO     Sending tasks to collaborator Two for round 2                                                                              aggregator.py:277\n",
            "           INFO     Received the following tasks: ['aggregated_model_validation', 'train', 'locally_tuned_model_validation']                 collaborator.py:145\n",
            "[14:05:42] INFO     Sending metric for task aggregated_model_validation, round number 2: acc        0.9688                                   collaborator.py:366\n",
            "           INFO     Collaborator Two is sending task results for aggregated_model_validation, round 2                                          aggregator.py:430\n",
            "[14:05:56] INFO     Sending metric for task train, round number 2: cross_entropy    0.07962735742330551                                      collaborator.py:366\n",
            "           INFO     Collaborator Two is sending task results for train, round 2                                                                aggregator.py:430\n",
            "[14:05:57] INFO     Sending metric for task locally_tuned_model_validation, round number 2: acc     0.9786                                   collaborator.py:366\n",
            "           INFO     Collaborator Two is sending task results for locally_tuned_model_validation, round 2                                       aggregator.py:430\n",
            "           INFO     train task metrics...                                                                                                      aggregator.py:694\n",
            "           INFO     cross_entropy:  0.0794                                                                                                     aggregator.py:742\n",
            "           INFO     aggregated_model_validation task metrics...                                                                                aggregator.py:694\n",
            "           INFO     acc:    0.9688                                                                                                             aggregator.py:742\n",
            "           INFO     Saved the best model with score 0.968800                                                                                   aggregator.py:754\n",
            "           INFO     locally_tuned_model_validation task metrics...                                                                             aggregator.py:694\n",
            "           INFO     acc:    0.9764                                                                                                             aggregator.py:742\n",
            "           INFO     Saving round 3 model...                                                                                                    aggregator.py:788\n",
            "           INFO     Starting round 3...                                                                                                        aggregator.py:796\n",
            "           INFO     All tasks completed on Two for round 2...                                                                                collaborator.py:150\n",
            "           INFO     Waiting for tasks...                                                                                                     collaborator.py:156\n",
            "           INFO     Sending tasks to collaborator one for round 3                                                                              aggregator.py:277\n",
            "           INFO     Received the following tasks: ['aggregated_model_validation', 'train', 'locally_tuned_model_validation']                 collaborator.py:145\n",
            "[14:05:58] INFO     Sending metric for task aggregated_model_validation, round number 3: acc        0.9806                                   collaborator.py:366\n",
            "           INFO     Collaborator one is sending task results for aggregated_model_validation, round 3                                          aggregator.py:430\n",
            "[14:06:12] INFO     Sending metric for task train, round number 3: cross_entropy    0.07691261172294617                                      collaborator.py:366\n",
            "           INFO     Collaborator one is sending task results for train, round 3                                                                aggregator.py:430\n",
            "[14:06:14] INFO     Sending metric for task locally_tuned_model_validation, round number 3: acc     0.9808                                   collaborator.py:366\n",
            "           INFO     Collaborator one is sending task results for locally_tuned_model_validation, round 3                                       aggregator.py:430\n",
            "           INFO     All tasks completed on one for round 3...                                                                                collaborator.py:150\n",
            "           INFO     Waiting for tasks...                                                                                                     collaborator.py:156\n",
            "           INFO     Sending tasks to collaborator Two for round 3                                                                              aggregator.py:277\n",
            "           INFO     Received the following tasks: ['aggregated_model_validation', 'train', 'locally_tuned_model_validation']                 collaborator.py:145\n",
            "[14:06:15] INFO     Sending metric for task aggregated_model_validation, round number 3: acc        0.9806                                   collaborator.py:366\n",
            "           INFO     Collaborator Two is sending task results for aggregated_model_validation, round 3                                          aggregator.py:430\n",
            "[14:06:29] INFO     Sending metric for task train, round number 3: cross_entropy    0.07695458084344864                                      collaborator.py:366\n",
            "           INFO     Collaborator Two is sending task results for train, round 3                                                                aggregator.py:430\n",
            "[14:06:30] INFO     Sending metric for task locally_tuned_model_validation, round number 3: acc     0.9748                                   collaborator.py:366\n",
            "           INFO     Collaborator Two is sending task results for locally_tuned_model_validation, round 3                                       aggregator.py:430\n",
            "           INFO     train task metrics...                                                                                                      aggregator.py:694\n",
            "           INFO     cross_entropy:  0.0769                                                                                                     aggregator.py:742\n",
            "           INFO     aggregated_model_validation task metrics...                                                                                aggregator.py:694\n",
            "           INFO     acc:    0.9806                                                                                                             aggregator.py:742\n",
            "           INFO     Saved the best model with score 0.980600                                                                                   aggregator.py:754\n",
            "           INFO     locally_tuned_model_validation task metrics...                                                                             aggregator.py:694\n",
            "           INFO     acc:    0.9778                                                                                                             aggregator.py:742\n",
            "           INFO     Saving round 4 model...                                                                                                    aggregator.py:788\n",
            "[14:06:31] INFO     Starting round 4...                                                                                                        aggregator.py:796\n",
            "           INFO     All tasks completed on Two for round 3...                                                                                collaborator.py:150\n",
            "           INFO     Waiting for tasks...                                                                                                     collaborator.py:156\n",
            "           INFO     Sending tasks to collaborator one for round 4                                                                              aggregator.py:277\n",
            "           INFO     Received the following tasks: ['aggregated_model_validation', 'train', 'locally_tuned_model_validation']                 collaborator.py:145\n",
            "[14:06:32] INFO     Sending metric for task aggregated_model_validation, round number 4: acc        0.9798                                   collaborator.py:366\n",
            "           INFO     Collaborator one is sending task results for aggregated_model_validation, round 4                                          aggregator.py:430\n",
            "[14:06:45] INFO     Sending metric for task train, round number 4: cross_entropy    0.0752262994647026                                       collaborator.py:366\n",
            "           INFO     Collaborator one is sending task results for train, round 4                                                                aggregator.py:430\n",
            "[14:06:46] INFO     Sending metric for task locally_tuned_model_validation, round number 4: acc     0.98                                     collaborator.py:366\n",
            "           INFO     Collaborator one is sending task results for locally_tuned_model_validation, round 4                                       aggregator.py:430\n",
            "           INFO     All tasks completed on one for round 4...                                                                                collaborator.py:150\n",
            "           INFO     Waiting for tasks...                                                                                                     collaborator.py:156\n",
            "           INFO     Sending tasks to collaborator Two for round 4                                                                              aggregator.py:277\n",
            "           INFO     Received the following tasks: ['aggregated_model_validation', 'train', 'locally_tuned_model_validation']                 collaborator.py:145\n",
            "[14:06:47] INFO     Sending metric for task aggregated_model_validation, round number 4: acc        0.9798                                   collaborator.py:366\n",
            "           INFO     Collaborator Two is sending task results for aggregated_model_validation, round 4                                          aggregator.py:430\n",
            "[14:07:01] INFO     Sending metric for task train, round number 4: cross_entropy    0.07554443925619125                                      collaborator.py:366\n",
            "           INFO     Collaborator Two is sending task results for train, round 4                                                                aggregator.py:430\n",
            "[14:07:02] INFO     Sending metric for task locally_tuned_model_validation, round number 4: acc     0.981                                    collaborator.py:366\n",
            "           INFO     Collaborator Two is sending task results for locally_tuned_model_validation, round 4                                       aggregator.py:430\n",
            "           INFO     train task metrics...                                                                                                      aggregator.py:694\n",
            "           INFO     cross_entropy:  0.0754                                                                                                     aggregator.py:742\n",
            "           INFO     aggregated_model_validation task metrics...                                                                                aggregator.py:694\n",
            "           INFO     acc:    0.9798                                                                                                             aggregator.py:742\n",
            "           INFO     locally_tuned_model_validation task metrics...                                                                             aggregator.py:694\n",
            "           INFO     acc:    0.9805                                                                                                             aggregator.py:742\n",
            "           INFO     Saving round 5 model...                                                                                                    aggregator.py:788\n",
            "           INFO     Experiment Completed. Cleaning up...                                                                                       aggregator.py:793\n",
            "           INFO     All tasks completed on Two for round 4...                                                                                collaborator.py:150\n"
          ],
          "name": "stdout"
        }
      ]
    },
    {
      "cell_type": "code",
      "metadata": {
        "id": "cBdMWYZLGqsC"
      },
      "source": [
        ""
      ],
      "execution_count": null,
      "outputs": []
    }
  ]
}