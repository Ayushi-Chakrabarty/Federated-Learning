{
 "cells": [
  {
   "cell_type": "code",
   "execution_count": 1,
   "metadata": {},
   "outputs": [],
   "source": [
    "#we are going to take a look at how to build a class A model that\n",
    "#helps us calculate all of that in an easy and efficient way (multiple neuron)\n",
    "#for multiple iterations\n",
    "\n",
    "import torch, torchvision\n",
    "from torchvision import transforms\n",
    "import matplotlib.pyplot as plt\n",
    "from torch import nn, optim"
   ]
  },
  {
   "cell_type": "code",
   "execution_count": 2,
   "metadata": {},
   "outputs": [],
   "source": [
    "transform = transforms.Compose([transforms.ToTensor()])\n",
    "trainset = torchvision.datasets.MNIST(root ='./data', train = True, transform = transform, download = True)\n",
    "trainloader = torch.utils.data.DataLoader(trainset, batch_size=64, shuffle=True)"
   ]
  },
  {
   "cell_type": "code",
   "execution_count": 3,
   "metadata": {},
   "outputs": [],
   "source": [
    "#can use any other name\n",
    "class Net(nn.Module):\n",
    "    #Initializer\n",
    "    def __init__(self):\n",
    "        super().__init__()\n",
    "        #Linear layer (input to the layer-size of images, how many outputs of neurons you want - convention)\n",
    "        self.hidden = nn.Linear(28*28, 512)\n",
    "        self.output = nn.Linear(512, 10) #MNIST contains 10 classes (no. of neurons at output) so output 10\n",
    "        #10 neurons- sigmoid activation will not do as expected, use softmax (classes)\n",
    "        #returns probability distributed across k number of classes\n",
    "        \n",
    "        self.sigmoid = nn.Sigmoid()\n",
    "        self.softmax = nn.LogSoftmax(dim=1) #all operations column wise\n",
    "    \n",
    "    #Sequence for forward propagation\n",
    "    def forward(self, x):\n",
    "        x = self.hidden(x)\n",
    "        x = self.sigmoid(x)\n",
    "        x = self.output(x)\n",
    "        x = self.softmax(x)\n",
    "        \n",
    "        return x"
   ]
  },
  {
   "cell_type": "code",
   "execution_count": 4,
   "metadata": {},
   "outputs": [],
   "source": [
    "model = Net()"
   ]
  },
  {
   "cell_type": "code",
   "execution_count": 5,
   "metadata": {},
   "outputs": [
    {
     "data": {
      "text/plain": [
       "Net(\n",
       "  (hidden): Linear(in_features=784, out_features=512, bias=True)\n",
       "  (output): Linear(in_features=512, out_features=10, bias=True)\n",
       "  (sigmoid): Sigmoid()\n",
       "  (softmax): LogSoftmax(dim=1)\n",
       ")"
      ]
     },
     "execution_count": 5,
     "metadata": {},
     "output_type": "execute_result"
    }
   ],
   "source": [
    "model"
   ]
  },
  {
   "cell_type": "code",
   "execution_count": 6,
   "metadata": {},
   "outputs": [
    {
     "name": "stdout",
     "output_type": "stream",
     "text": [
      "The running loss is: 2.092078208160807\n",
      "The running loss is: 1.4586845521987883\n",
      "The running loss is: 0.9584713845110652\n",
      "The running loss is: 0.7238238281659735\n",
      "The running loss is: 0.6044687770450039\n"
     ]
    }
   ],
   "source": [
    "#In PyTorch there is a convention to define what loss you are going to use\n",
    "criterion = nn.NLLLoss()\n",
    "#After getting gradients, update the weights\n",
    "optimizer = optim.SGD(model.parameters(), lr=0.01)\n",
    "\n",
    "for epoch in range(5):\n",
    "    running_loss = 0\n",
    "    for images, labels in trainloader:\n",
    "        images = images.view(images.shape[0], -1) #reshape\n",
    "        optimizer.zero_grad() #*Reason: check video\n",
    "        #log probability for our output\n",
    "        logits = model(images) #pass one batch to model\n",
    "        loss = criterion(logits, labels) #calculate loss\n",
    "        #specific to this batch of images\n",
    "        loss.backward() #backward prop\n",
    "        optimizer.step()\n",
    "        running_loss += loss.item()\n",
    "    else:\n",
    "        print('The running loss is: {}'.format(running_loss/len(trainloader)))\n",
    "        "
   ]
  },
  {
   "cell_type": "code",
   "execution_count": null,
   "metadata": {},
   "outputs": [],
   "source": [
    "#* We make sure that the gradients are set null initially to eliminate \n",
    "# the vanishing gradient problem \n",
    "# and the exploding gradient problem"
   ]
  }
 ],
 "metadata": {
  "kernelspec": {
   "display_name": "Python 3",
   "language": "python",
   "name": "python3"
  },
  "language_info": {
   "codemirror_mode": {
    "name": "ipython",
    "version": 3
   },
   "file_extension": ".py",
   "mimetype": "text/x-python",
   "name": "python",
   "nbconvert_exporter": "python",
   "pygments_lexer": "ipython3",
   "version": "3.8.5"
  }
 },
 "nbformat": 4,
 "nbformat_minor": 4
}
