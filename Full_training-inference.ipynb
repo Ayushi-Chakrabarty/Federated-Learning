{
 "cells": [
  {
   "cell_type": "code",
   "execution_count": 19,
   "metadata": {},
   "outputs": [],
   "source": [
    "import torch, torchvision\n",
    "from torchvision import transforms\n",
    "import matplotlib.pyplot as plt\n",
    "from torch import nn, optim"
   ]
  },
  {
   "cell_type": "code",
   "execution_count": 20,
   "metadata": {},
   "outputs": [],
   "source": [
    "transform = transforms.Compose([transforms.ToTensor()])\n",
    "trainset = torchvision.datasets.MNIST(root ='./data', train = True, transform = transform, download = True)\n",
    "trainloader = torch.utils.data.DataLoader(trainset, batch_size=64, shuffle=True)"
   ]
  },
  {
   "cell_type": "code",
   "execution_count": 21,
   "metadata": {},
   "outputs": [],
   "source": [
    "#can use any other name\n",
    "class Net(nn.Module):\n",
    "    #Initializer\n",
    "    def __init__(self):\n",
    "        super().__init__()\n",
    "        #Linear layer (input to the layer-size of images, how many outputs of neurons you want - convention)\n",
    "        self.hidden = nn.Linear(28*28, 512)\n",
    "        \n",
    "        #self.hidden2 = nn.Linear(512, 512) #might help training, improve accuracy\n",
    "        #output size of previous equals input size of first (hidden layer)\n",
    "        \n",
    "        self.output = nn.Linear(512, 10) \n",
    "        \n",
    "        self.sigmoid = nn.ReLU() #changed the activation function\n",
    "        self.softmax = nn.LogSoftmax(dim=1) #all operations column wise\n",
    "    \n",
    "    #Sequence for forward propagation\n",
    "    def forward(self, x):\n",
    "        x = self.hidden(x)\n",
    "        #x = self.hidden2(x)\n",
    "        x = self.sigmoid(x)\n",
    "        x = self.output(x)\n",
    "        x = self.softmax(x)\n",
    "        \n",
    "        return x"
   ]
  },
  {
   "cell_type": "code",
   "execution_count": 22,
   "metadata": {},
   "outputs": [],
   "source": [
    "model = Net()"
   ]
  },
  {
   "cell_type": "code",
   "execution_count": 23,
   "metadata": {},
   "outputs": [
    {
     "data": {
      "text/plain": [
       "Net(\n",
       "  (hidden): Linear(in_features=784, out_features=512, bias=True)\n",
       "  (output): Linear(in_features=512, out_features=10, bias=True)\n",
       "  (sigmoid): ReLU()\n",
       "  (softmax): LogSoftmax(dim=1)\n",
       ")"
      ]
     },
     "execution_count": 23,
     "metadata": {},
     "output_type": "execute_result"
    }
   ],
   "source": [
    "model"
   ]
  },
  {
   "cell_type": "code",
   "execution_count": 24,
   "metadata": {},
   "outputs": [
    {
     "name": "stdout",
     "output_type": "stream",
     "text": [
      "The running loss is: 1.1613862334347482\n",
      "The running loss is: 0.47632771385694617\n",
      "The running loss is: 0.3847478471839352\n",
      "The running loss is: 0.3457400458914512\n",
      "The running loss is: 0.3215620513918049\n"
     ]
    }
   ],
   "source": [
    "#In PyTorch there is a convention to define what loss you are going to use\n",
    "criterion = nn.NLLLoss()\n",
    "#After getting gradients, update the weights\n",
    "optimizer = optim.SGD(model.parameters(), lr=0.01)\n",
    "\n",
    "for epoch in range(5):\n",
    "    running_loss = 0\n",
    "    for images, labels in trainloader:\n",
    "        images = images.view(images.shape[0], -1) #reshape\n",
    "        optimizer.zero_grad() #*Reason: check video\n",
    "        #log probability for our output\n",
    "        logits = model(images) #pass one batch to model\n",
    "        loss = criterion(logits, labels) #calculate loss\n",
    "        #specific to this batch of images\n",
    "        loss.backward() #backward prop\n",
    "        optimizer.step()\n",
    "        running_loss += loss.item()\n",
    "    else:\n",
    "        print('The running loss is: {}'.format(running_loss/len(trainloader)))\n",
    "        "
   ]
  },
  {
   "cell_type": "code",
   "execution_count": 25,
   "metadata": {},
   "outputs": [],
   "source": [
    "#Huge difference in output loss after using ReLU (loss minimized)"
   ]
  },
  {
   "cell_type": "code",
   "execution_count": 26,
   "metadata": {},
   "outputs": [],
   "source": [
    "images, labels = next(iter(trainloader))"
   ]
  },
  {
   "cell_type": "code",
   "execution_count": 27,
   "metadata": {},
   "outputs": [],
   "source": [
    "img = images[0].view(1, -1) #reshape\n",
    "#pass single image and not a batch "
   ]
  },
  {
   "cell_type": "code",
   "execution_count": 28,
   "metadata": {},
   "outputs": [],
   "source": [
    "with torch.no_grad():\n",
    "    logprobs = model(img)"
   ]
  },
  {
   "cell_type": "code",
   "execution_count": 29,
   "metadata": {},
   "outputs": [
    {
     "data": {
      "text/plain": [
       "tensor([[-12.4698,  -0.0229,  -4.3339,  -5.9972, -10.1029,  -8.7949,  -7.8413,\n",
       "          -6.9813,  -5.2560,  -8.2694]])"
      ]
     },
     "execution_count": 29,
     "metadata": {},
     "output_type": "execute_result"
    }
   ],
   "source": [
    "logprobs\n",
    "#view(images.shape[0], -1) #reshape"
   ]
  },
  {
   "cell_type": "code",
   "execution_count": 30,
   "metadata": {},
   "outputs": [
    {
     "data": {
      "text/plain": [
       "tensor([[3.8411e-06, 9.7741e-01, 1.3117e-02, 2.4856e-03, 4.0962e-05, 1.5150e-04,\n",
       "         3.9318e-04, 9.2907e-04, 5.2163e-03, 2.5624e-04]])"
      ]
     },
     "execution_count": 30,
     "metadata": {},
     "output_type": "execute_result"
    }
   ],
   "source": [
    "probs = torch.exp(logprobs)\n",
    "probs"
   ]
  },
  {
   "cell_type": "code",
   "execution_count": 31,
   "metadata": {},
   "outputs": [
    {
     "data": {
      "text/plain": [
       "tensor(1.0000)"
      ]
     },
     "execution_count": 31,
     "metadata": {},
     "output_type": "execute_result"
    }
   ],
   "source": [
    "torch.sum(probs)"
   ]
  },
  {
   "cell_type": "code",
   "execution_count": 33,
   "metadata": {},
   "outputs": [
    {
     "data": {
      "text/plain": [
       "tensor(1)"
      ]
     },
     "execution_count": 33,
     "metadata": {},
     "output_type": "execute_result"
    }
   ],
   "source": [
    "#How to find the maximum probability\n",
    "#we want index of highest probability\n",
    "#each value represents a class\n",
    "\n",
    "torch.argmax(probs)"
   ]
  },
  {
   "cell_type": "code",
   "execution_count": null,
   "metadata": {},
   "outputs": [],
   "source": []
  }
 ],
 "metadata": {
  "kernelspec": {
   "display_name": "Python 3",
   "language": "python",
   "name": "python3"
  },
  "language_info": {
   "codemirror_mode": {
    "name": "ipython",
    "version": 3
   },
   "file_extension": ".py",
   "mimetype": "text/x-python",
   "name": "python",
   "nbconvert_exporter": "python",
   "pygments_lexer": "ipython3",
   "version": "3.8.5"
  }
 },
 "nbformat": 4,
 "nbformat_minor": 4
}
